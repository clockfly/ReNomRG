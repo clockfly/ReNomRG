{
 "cells": [
  {
   "cell_type": "code",
   "execution_count": 1,
   "metadata": {},
   "outputs": [],
   "source": [
    "import numpy as np\n",
    "import matplotlib.pyplot as plt\n",
    "from sklearn.datasets import load_boston\n",
    "from sklearn.metrics import r2_score\n",
    "from sklearn.preprocessing import normalize\n",
    "from sklearn.model_selection import train_test_split\n",
    "from tqdm import tqdm\n",
    "\n",
    "import renom as rm\n",
    "from renom.cuda import set_cuda_active\n",
    "from renom.optimizer import Adam\n",
    "\n",
    "from renom_rg.api.regression.gcnn import GCNet\n",
    "from renom_rg.api.utility.feature_graph import get_corr_graph, get_kernel_graph, get_dbscan_graph\n",
    "\n",
    "np.random.seed(1984)"
   ]
  },
  {
   "cell_type": "code",
   "execution_count": 2,
   "metadata": {},
   "outputs": [],
   "source": [
    "if rm.cuda.has_cuda():\n",
    "    set_cuda_active(True)"
   ]
  },
  {
   "cell_type": "code",
   "execution_count": 3,
   "metadata": {},
   "outputs": [],
   "source": [
    "batch_size = 16\n",
    "epochs = 100\n",
    "fc_unit = (100, 50)\n",
    "channels = (10, 20, 20)\n",
    "neighbors = 5\n",
    "gamma = 0.1"
   ]
  },
  {
   "cell_type": "code",
   "execution_count": 4,
   "metadata": {},
   "outputs": [],
   "source": [
    "boston_data = load_boston()\n",
    "\n",
    "X = boston_data.data\n",
    "y = boston_data.target.reshape(-1, 1)\n",
    "\n",
    "X_train, X_test, y_train, y_test = train_test_split(X, y, test_size=0.2)"
   ]
  },
  {
   "cell_type": "code",
   "execution_count": 5,
   "metadata": {},
   "outputs": [],
   "source": [
    "# feature_graph = get_corr_graph(X_train, neighbors)\n",
    "# feature_graph = get_kernel_graph(X_train, neighbors, gamma)\n",
    "feature_graph = get_dbscan_graph(X_train, neighbors)"
   ]
  },
  {
   "cell_type": "code",
   "execution_count": 6,
   "metadata": {
    "scrolled": true
   },
   "outputs": [
    {
     "name": "stderr",
     "output_type": "stream",
     "text": [
      "epoch: 0 loss: 13.082501411437988: 100%|██████████| 25/25 [00:00<00:00, 63.18it/s]\n",
      "epoch: 1 loss: 12.7806396484375: 100%|██████████| 25/25 [00:00<00:00, 63.75it/s]  \n",
      "epoch: 2 loss: 14.768838882446289: 100%|██████████| 25/25 [00:00<00:00, 69.03it/s]\n",
      "epoch: 3 loss: 5.593596935272217: 100%|██████████| 25/25 [00:00<00:00, 59.40it/s] \n",
      "epoch: 4 loss: 10.13208293914795: 100%|██████████| 25/25 [00:00<00:00, 67.13it/s] \n",
      "epoch: 5 loss: 16.80792808532715: 100%|██████████| 25/25 [00:00<00:00, 65.33it/s] \n",
      "epoch: 6 loss: 9.609421730041504: 100%|██████████| 25/25 [00:00<00:00, 65.30it/s] \n",
      "epoch: 7 loss: 6.143838882446289: 100%|██████████| 25/25 [00:00<00:00, 65.53it/s] \n",
      "epoch: 8 loss: 10.620588302612305: 100%|██████████| 25/25 [00:00<00:00, 61.92it/s]\n",
      "epoch: 9 loss: 6.26022481918335: 100%|██████████| 25/25 [00:00<00:00, 62.46it/s]  \n",
      "epoch: 10 loss: 10.758611679077148: 100%|██████████| 25/25 [00:00<00:00, 59.42it/s]\n",
      "epoch: 11 loss: 5.8998260498046875: 100%|██████████| 25/25 [00:00<00:00, 65.68it/s]\n",
      "epoch: 12 loss: 11.399007797241211: 100%|██████████| 25/25 [00:00<00:00, 69.39it/s]\n",
      "epoch: 13 loss: 4.305163383483887: 100%|██████████| 25/25 [00:00<00:00, 60.88it/s] \n",
      "epoch: 14 loss: 21.79262924194336: 100%|██████████| 25/25 [00:00<00:00, 66.75it/s] \n",
      "epoch: 15 loss: 15.970619201660156: 100%|██████████| 25/25 [00:00<00:00, 58.62it/s]\n",
      "epoch: 16 loss: 13.895700454711914: 100%|██████████| 25/25 [00:00<00:00, 65.37it/s]\n",
      "epoch: 17 loss: 5.200839519500732: 100%|██████████| 25/25 [00:00<00:00, 64.61it/s] \n",
      "epoch: 18 loss: 12.93913745880127: 100%|██████████| 25/25 [00:00<00:00, 65.26it/s] \n",
      "epoch: 19 loss: 10.77849292755127: 100%|██████████| 25/25 [00:00<00:00, 62.82it/s] \n",
      "epoch: 20 loss: 8.138856887817383: 100%|██████████| 25/25 [00:00<00:00, 66.31it/s] \n",
      "epoch: 21 loss: 6.732467174530029: 100%|██████████| 25/25 [00:00<00:00, 60.07it/s] \n",
      "epoch: 22 loss: 5.985663414001465: 100%|██████████| 25/25 [00:00<00:00, 67.07it/s] \n",
      "epoch: 23 loss: 2.1732006072998047: 100%|██████████| 25/25 [00:00<00:00, 64.05it/s]\n",
      "epoch: 24 loss: 6.594758033752441: 100%|██████████| 25/25 [00:00<00:00, 61.48it/s] \n",
      "epoch: 25 loss: 9.467596054077148: 100%|██████████| 25/25 [00:00<00:00, 66.30it/s] \n",
      "epoch: 26 loss: 10.123173713684082: 100%|██████████| 25/25 [00:00<00:00, 59.28it/s]\n",
      "epoch: 27 loss: 6.518050670623779: 100%|██████████| 25/25 [00:00<00:00, 58.29it/s] \n",
      "epoch: 28 loss: 7.897777080535889: 100%|██████████| 25/25 [00:00<00:00, 64.74it/s] \n",
      "epoch: 29 loss: 8.050166130065918: 100%|██████████| 25/25 [00:00<00:00, 59.34it/s] \n",
      "epoch: 30 loss: 2.610173225402832: 100%|██████████| 25/25 [00:00<00:00, 59.02it/s] \n",
      "epoch: 31 loss: 5.537978172302246: 100%|██████████| 25/25 [00:00<00:00, 55.70it/s] \n",
      "epoch: 32 loss: 5.561097621917725: 100%|██████████| 25/25 [00:00<00:00, 59.81it/s] \n",
      "epoch: 33 loss: 2.210333824157715: 100%|██████████| 25/25 [00:00<00:00, 61.97it/s] \n",
      "epoch: 34 loss: 4.150441646575928: 100%|██████████| 25/25 [00:00<00:00, 58.94it/s] \n",
      "epoch: 35 loss: 8.09974479675293: 100%|██████████| 25/25 [00:00<00:00, 58.81it/s]  \n",
      "epoch: 36 loss: 6.777525901794434: 100%|██████████| 25/25 [00:00<00:00, 60.06it/s] \n",
      "epoch: 37 loss: 4.938085556030273: 100%|██████████| 25/25 [00:00<00:00, 61.03it/s] \n",
      "epoch: 38 loss: 2.4191980361938477: 100%|██████████| 25/25 [00:00<00:00, 67.59it/s]\n",
      "epoch: 39 loss: 28.78675651550293: 100%|██████████| 25/25 [00:00<00:00, 55.38it/s] \n",
      "epoch: 40 loss: 7.126471996307373: 100%|██████████| 25/25 [00:00<00:00, 70.14it/s] \n",
      "epoch: 41 loss: 16.658296585083008: 100%|██████████| 25/25 [00:00<00:00, 63.64it/s]\n",
      "epoch: 42 loss: 3.5431361198425293: 100%|██████████| 25/25 [00:00<00:00, 59.84it/s]\n",
      "epoch: 43 loss: 2.8759677410125732: 100%|██████████| 25/25 [00:00<00:00, 59.37it/s]\n",
      "epoch: 44 loss: 4.639803886413574: 100%|██████████| 25/25 [00:00<00:00, 62.61it/s] \n",
      "epoch: 45 loss: 5.713751792907715: 100%|██████████| 25/25 [00:00<00:00, 58.33it/s] \n",
      "epoch: 46 loss: 7.865586757659912: 100%|██████████| 25/25 [00:00<00:00, 63.17it/s] \n",
      "epoch: 47 loss: 4.178343772888184: 100%|██████████| 25/25 [00:00<00:00, 58.83it/s] \n",
      "epoch: 48 loss: 3.8559226989746094: 100%|██████████| 25/25 [00:00<00:00, 60.29it/s]\n",
      "epoch: 49 loss: 15.348663330078125: 100%|██████████| 25/25 [00:00<00:00, 58.64it/s]\n",
      "epoch: 50 loss: 4.59645414352417: 100%|██████████| 25/25 [00:00<00:00, 52.26it/s]  \n",
      "epoch: 51 loss: 4.128618240356445: 100%|██████████| 25/25 [00:00<00:00, 54.49it/s] \n",
      "epoch: 52 loss: 1.8699793815612793: 100%|██████████| 25/25 [00:00<00:00, 55.07it/s]\n",
      "epoch: 53 loss: 4.304962635040283: 100%|██████████| 25/25 [00:00<00:00, 62.05it/s] \n",
      "epoch: 54 loss: 1.9956755638122559: 100%|██████████| 25/25 [00:00<00:00, 61.51it/s]\n",
      "epoch: 55 loss: 2.225537061691284: 100%|██████████| 25/25 [00:00<00:00, 56.30it/s] \n",
      "epoch: 56 loss: 8.17789363861084: 100%|██████████| 25/25 [00:00<00:00, 57.69it/s]  \n",
      "epoch: 57 loss: 20.91872787475586: 100%|██████████| 25/25 [00:00<00:00, 55.86it/s] \n",
      "epoch: 58 loss: 13.364835739135742: 100%|██████████| 25/25 [00:00<00:00, 58.23it/s]\n",
      "epoch: 59 loss: 5.923169136047363: 100%|██████████| 25/25 [00:00<00:00, 43.40it/s] \n",
      "epoch: 60 loss: 3.5756888389587402: 100%|██████████| 25/25 [00:00<00:00, 51.87it/s]\n",
      "epoch: 61 loss: 3.321842908859253: 100%|██████████| 25/25 [00:00<00:00, 60.02it/s] \n",
      "epoch: 62 loss: 2.368147134780884: 100%|██████████| 25/25 [00:00<00:00, 53.76it/s] \n",
      "epoch: 63 loss: 3.7813639640808105: 100%|██████████| 25/25 [00:00<00:00, 53.48it/s]\n",
      "epoch: 64 loss: 6.040272235870361: 100%|██████████| 25/25 [00:00<00:00, 49.41it/s] \n",
      "epoch: 65 loss: 3.519360303878784: 100%|██████████| 25/25 [00:00<00:00, 56.82it/s] \n",
      "epoch: 66 loss: 4.873809337615967: 100%|██████████| 25/25 [00:00<00:00, 57.43it/s] \n",
      "epoch: 67 loss: 4.049757957458496: 100%|██████████| 25/25 [00:00<00:00, 61.53it/s] \n",
      "epoch: 68 loss: 4.26945161819458: 100%|██████████| 25/25 [00:00<00:00, 52.69it/s]  \n",
      "epoch: 69 loss: 12.718888282775879: 100%|██████████| 25/25 [00:00<00:00, 56.48it/s]\n",
      "epoch: 70 loss: 2.644285202026367: 100%|██████████| 25/25 [00:00<00:00, 51.45it/s] \n",
      "epoch: 71 loss: 2.3035824298858643: 100%|██████████| 25/25 [00:00<00:00, 61.18it/s]\n",
      "epoch: 72 loss: 1.9114694595336914: 100%|██████████| 25/25 [00:00<00:00, 57.04it/s]\n",
      "epoch: 73 loss: 2.734672784805298: 100%|██████████| 25/25 [00:00<00:00, 54.08it/s] \n",
      "epoch: 74 loss: 10.102657318115234: 100%|██████████| 25/25 [00:00<00:00, 49.16it/s]\n",
      "epoch: 75 loss: 2.850228786468506: 100%|██████████| 25/25 [00:00<00:00, 55.78it/s] \n",
      "epoch: 76 loss: 7.108705043792725: 100%|██████████| 25/25 [00:00<00:00, 52.95it/s] \n",
      "epoch: 77 loss: 5.331263065338135: 100%|██████████| 25/25 [00:00<00:00, 56.08it/s] \n",
      "epoch: 78 loss: 2.5686254501342773: 100%|██████████| 25/25 [00:00<00:00, 50.44it/s]\n",
      "epoch: 79 loss: 5.194430828094482: 100%|██████████| 25/25 [00:00<00:00, 52.54it/s] \n",
      "epoch: 80 loss: 2.320901870727539: 100%|██████████| 25/25 [00:00<00:00, 59.01it/s] \n",
      "epoch: 81 loss: 3.927065372467041: 100%|██████████| 25/25 [00:00<00:00, 55.31it/s] \n",
      "epoch: 82 loss: 1.3506722450256348: 100%|██████████| 25/25 [00:00<00:00, 52.27it/s]\n",
      "epoch: 83 loss: 2.612457275390625: 100%|██████████| 25/25 [00:00<00:00, 52.86it/s] \n",
      "epoch: 84 loss: 5.348369598388672: 100%|██████████| 25/25 [00:00<00:00, 59.27it/s] \n",
      "epoch: 85 loss: 5.15551233291626: 100%|██████████| 25/25 [00:00<00:00, 60.35it/s]  \n",
      "epoch: 86 loss: 4.502542972564697: 100%|██████████| 25/25 [00:00<00:00, 56.26it/s] \n",
      "epoch: 87 loss: 7.519738674163818: 100%|██████████| 25/25 [00:00<00:00, 57.90it/s] \n",
      "epoch: 88 loss: 4.843479156494141: 100%|██████████| 25/25 [00:00<00:00, 55.16it/s] \n",
      "epoch: 89 loss: 5.837067604064941: 100%|██████████| 25/25 [00:00<00:00, 56.00it/s] \n",
      "epoch: 90 loss: 6.972870826721191: 100%|██████████| 25/25 [00:00<00:00, 50.93it/s] \n",
      "epoch: 91 loss: 3.962878704071045: 100%|██████████| 25/25 [00:00<00:00, 55.79it/s] \n",
      "epoch: 92 loss: 2.983381509780884: 100%|██████████| 25/25 [00:00<00:00, 58.57it/s] \n",
      "epoch: 93 loss: 3.061269760131836: 100%|██████████| 25/25 [00:00<00:00, 60.56it/s] \n",
      "epoch: 94 loss: 10.014501571655273: 100%|██████████| 25/25 [00:00<00:00, 57.53it/s]\n",
      "epoch: 95 loss: 3.9200387001037598: 100%|██████████| 25/25 [00:00<00:00, 57.22it/s]\n",
      "epoch: 96 loss: 2.2772679328918457: 100%|██████████| 25/25 [00:00<00:00, 60.75it/s]\n"
     ]
    },
    {
     "name": "stderr",
     "output_type": "stream",
     "text": [
      "epoch: 97 loss: 3.6273162364959717: 100%|██████████| 25/25 [00:00<00:00, 62.48it/s]\n",
      "epoch: 98 loss: 5.039151668548584: 100%|██████████| 25/25 [00:00<00:00, 67.11it/s] \n",
      "epoch: 99 loss: 3.2915749549865723: 100%|██████████| 25/25 [00:00<00:00, 64.74it/s]"
     ]
    },
    {
     "name": "stdout",
     "output_type": "stream",
     "text": [
      "CPU times: user 1min 47s, sys: 3min 37s, total: 5min 25s\n",
      "Wall time: 44.1 s\n"
     ]
    },
    {
     "name": "stderr",
     "output_type": "stream",
     "text": [
      "\n"
     ]
    }
   ],
   "source": [
    "%%time\n",
    "network = GCNet(feature_graph=feature_graph, num_target=y_train.shape[1], neighbors=neighbors, fc_unit=fc_unit, channels=channels)\n",
    "optimizer = Adam()\n",
    "\n",
    "learning_curve = []\n",
    "test_curve = []\n",
    "\n",
    "for i in range(epochs):\n",
    "    N = X_train.shape[0]\n",
    "    perm = np.random.permutation(N)\n",
    "    loss = 0\n",
    "    bar = tqdm(range(N//batch_size))\n",
    "    \n",
    "    pred_train = []\n",
    "    pred_true = []\n",
    "    for j in bar:\n",
    "        index = perm[j*batch_size:(j+1)*batch_size]\n",
    "        train_batch_x = X_train[index].reshape(-1, 1, X_train.shape[1], 1)\n",
    "        train_batch_y = y_train[index]\n",
    "\n",
    "        # Loss function\n",
    "        network.set_models(inference=False)\n",
    "        with network.train():\n",
    "            pred = network(train_batch_x)\n",
    "\n",
    "            if rm.is_cuda_active():\n",
    "                p = pred.as_ndarray()\n",
    "            else:\n",
    "                p = pred\n",
    "            \n",
    "            pred_train.extend(p.tolist())\n",
    "            pred_true.extend(train_batch_y.tolist())\n",
    "            l = rm.mse(pred, train_batch_y)\n",
    "\n",
    "        # Back propagation\n",
    "        grad = l.grad()\n",
    "\n",
    "        # Update\n",
    "        grad.update(optimizer)\n",
    "        \n",
    "        if rm.is_cuda_active():\n",
    "            loss += l.as_ndarray()\n",
    "        else:\n",
    "            loss += l\n",
    "\n",
    "        bar.set_description(\"epoch: {} loss: {}\".format(i, l))\n",
    "        bar.update(1)\n",
    "\n",
    "    train_loss = loss / (N//batch_size)\n",
    "    learning_curve.append(train_loss)\n",
    "\n",
    "    # Validation\n",
    "    network.set_models(inference=True)\n",
    "    N = X_test.shape[0]\n",
    "    \n",
    "    pred = network(X_test.reshape(-1, 1, X_test.shape[1], 1))\n",
    "    test_loss = rm.mse(pred, y_test)\n",
    "    if rm.is_cuda_active():\n",
    "        pred = pred.as_ndarray()\n",
    "        test_loss = test_loss.as_ndarray()\n",
    "    test_curve.append(test_loss)\n",
    "\n",
    "#     print(\"epoch:{} train_loss: {} test_loss: {}\".format(i, train_loss, test_loss))\n",
    "#     print(\"epoch {} R2:{}\".format(i, r2_score(y_test, pred)))"
   ]
  },
  {
   "cell_type": "code",
   "execution_count": 7,
   "metadata": {},
   "outputs": [
    {
     "data": {
      "image/png": "[encoded data removed]",
      "text/plain": [
       "<matplotlib.figure.Figure at 0x7fcc22367278>"
      ]
     },
     "metadata": {
      "needs_background": "light"
     },
     "output_type": "display_data"
    }
   ],
   "source": [
    "# Learning curve.\n",
    "plt.plot(learning_curve, linewidth=3, label=\"train\")\n",
    "plt.plot(test_curve, linewidth=3, label=\"test\")\n",
    "plt.title(\"Learning curve\")\n",
    "plt.ylabel(\"error\")\n",
    "plt.xlabel(\"epoch\")\n",
    "plt.legend()\n",
    "plt.grid()\n",
    "plt.show()"
   ]
  },
  {
   "cell_type": "code",
   "execution_count": 8,
   "metadata": {},
   "outputs": [
    {
     "data": {
      "image/png": "[encoded data removed]",
      "text/plain": [
       "<matplotlib.figure.Figure at 0x7fcc20a9a630>"
      ]
     },
     "metadata": {
      "needs_background": "light"
     },
     "output_type": "display_data"
    }
   ],
   "source": [
    "# true prediction plot.\n",
    "plt.scatter(np.array(pred_true)[:200], np.array(pred_train)[:200], c=\"b\")\n",
    "plt.scatter(y_test, pred, c=\"r\")\n",
    "plt.ylabel(\"true\")\n",
    "plt.xlabel(\"pred\")\n",
    "plt.grid()\n",
    "plt.show()"
   ]
  }
 ],
 "metadata": {
  "kernelspec": {
   "display_name": "Python 3",
   "language": "python",
   "name": "python3"
  },
  "language_info": {
   "codemirror_mode": {
    "name": "ipython",
    "version": 3
   },
   "file_extension": ".py",
   "mimetype": "text/x-python",
   "name": "python",
   "nbconvert_exporter": "python",
   "pygments_lexer": "ipython3",
   "version": "3.5.2"
  }
 },
 "nbformat": 4,
 "nbformat_minor": 2
}
