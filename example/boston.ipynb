{
 "cells": [
  {
   "cell_type": "code",
   "execution_count": 1,
   "metadata": {
    "collapsed": true
   },
   "outputs": [],
   "source": [
    "import numpy as np\n",
    "import matplotlib.pyplot as plt\n",
    "from sklearn.datasets import load_boston\n",
    "from sklearn.metrics import r2_score\n",
    "from sklearn.preprocessing import normalize\n",
    "from sklearn.model_selection import train_test_split\n",
    "from tqdm import tqdm\n",
    "\n",
    "import renom as rm\n",
    "from renom.optimizer import Adam\n",
    "\n",
    "from renom_rg.api.regression.gcnn import GCNet\n",
    "from renom_rg.api.utility.feature_graph import get_corr_graph, get_kernel_graph, get_dbscan_graph\n",
    "\n",
    "np.random.seed(1984)"
   ]
  },
  {
   "cell_type": "code",
   "execution_count": 2,
   "metadata": {
    "collapsed": true
   },
   "outputs": [],
   "source": [
    "batch_size = 16\n",
    "epochs = 100\n",
    "fc_unit = (100, 50)\n",
    "channels = (10, 20, 20)\n",
    "neighbors = 5\n",
    "gamma = 0.1"
   ]
  },
  {
   "cell_type": "code",
   "execution_count": 3,
   "metadata": {
    "collapsed": true
   },
   "outputs": [],
   "source": [
    "boston_data = load_boston()\n",
    "\n",
    "X = boston_data.data\n",
    "y = boston_data.target.reshape(-1, 1)\n",
    "\n",
    "X_train, X_test, y_train, y_test = train_test_split(X, y, test_size=0.2)"
   ]
  },
  {
   "cell_type": "code",
   "execution_count": 4,
   "metadata": {
    "collapsed": true
   },
   "outputs": [],
   "source": [
    "# feature_graph = get_corr_graph(X_train, neighbors)\n",
    "# feature_graph = get_kernel_graph(X_train, neighbors, gamma)\n",
    "feature_graph = get_dbscan_graph(X_train, neighbors)"
   ]
  },
  {
   "cell_type": "code",
   "execution_count": 5,
   "metadata": {
    "scrolled": true
   },
   "outputs": [
    {
     "name": "stderr",
     "output_type": "stream",
     "text": [
      "epoch: 0 loss: 12.601465225219727: 100%|██████████| 25/25 [00:00<00:00, 79.41it/s]\n",
      "epoch: 1 loss: 34.53654479980469:  64%|██████▍   | 16/25 [00:00<00:00, 84.66it/s] "
     ]
    },
    {
     "name": "stdout",
     "output_type": "stream",
     "text": [
      "epoch:0 train_loss: 94.66545715332032 test_loss: 28.00143814086914\n",
      "epoch 0 R2:0.232709735528833\n"
     ]
    },
    {
     "name": "stderr",
     "output_type": "stream",
     "text": [
      "epoch: 1 loss: 14.096033096313477: 100%|██████████| 25/25 [00:00<00:00, 84.93it/s]\n",
      "epoch: 2 loss: 12.735286712646484:  56%|█████▌    | 14/25 [00:00<00:00, 78.66it/s]"
     ]
    },
    {
     "name": "stdout",
     "output_type": "stream",
     "text": [
      "epoch:1 train_loss: 34.98801689147949 test_loss: 22.311609268188477\n",
      "epoch 1 R2:0.38862142521372467\n"
     ]
    },
    {
     "name": "stderr",
     "output_type": "stream",
     "text": [
      "epoch: 2 loss: 18.59109115600586: 100%|██████████| 25/25 [00:00<00:00, 81.41it/s] \n",
      "epoch: 3 loss: 39.04886245727539:  60%|██████    | 15/25 [00:00<00:00, 77.48it/s] "
     ]
    },
    {
     "name": "stdout",
     "output_type": "stream",
     "text": [
      "epoch:2 train_loss: 28.9895796585083 test_loss: 16.314342498779297\n",
      "epoch 2 R2:0.5529572945745695\n"
     ]
    },
    {
     "name": "stderr",
     "output_type": "stream",
     "text": [
      "epoch: 3 loss: 8.277877807617188: 100%|██████████| 25/25 [00:00<00:00, 79.89it/s] \n",
      "epoch: 4 loss: 23.675376892089844:  64%|██████▍   | 16/25 [00:00<00:00, 86.15it/s]"
     ]
    },
    {
     "name": "stdout",
     "output_type": "stream",
     "text": [
      "epoch:3 train_loss: 21.66054473876953 test_loss: 13.889755249023438\n",
      "epoch 3 R2:0.6193954675772702\n"
     ]
    },
    {
     "name": "stderr",
     "output_type": "stream",
     "text": [
      "epoch: 4 loss: 14.41775131225586: 100%|██████████| 25/25 [00:00<00:00, 80.18it/s] \n",
      "epoch: 5 loss: 4.656487464904785:  56%|█████▌    | 14/25 [00:00<00:00, 81.93it/s] "
     ]
    },
    {
     "name": "stdout",
     "output_type": "stream",
     "text": [
      "epoch:4 train_loss: 18.13783582687378 test_loss: 12.400525093078613\n",
      "epoch 4 R2:0.6602030080941077\n"
     ]
    },
    {
     "name": "stderr",
     "output_type": "stream",
     "text": [
      "epoch: 5 loss: 17.022911071777344: 100%|██████████| 25/25 [00:00<00:00, 81.88it/s]\n",
      "epoch: 6 loss: 17.882646560668945:  64%|██████▍   | 16/25 [00:00<00:00, 80.79it/s]"
     ]
    },
    {
     "name": "stdout",
     "output_type": "stream",
     "text": [
      "epoch:5 train_loss: 13.153290004730225 test_loss: 10.25662899017334\n",
      "epoch 5 R2:0.7189497529947138\n"
     ]
    },
    {
     "name": "stderr",
     "output_type": "stream",
     "text": [
      "epoch: 6 loss: 10.224430084228516: 100%|██████████| 25/25 [00:00<00:00, 84.22it/s]\n",
      "epoch: 7 loss: 7.9678473472595215:  60%|██████    | 15/25 [00:00<00:00, 85.57it/s]"
     ]
    },
    {
     "name": "stdout",
     "output_type": "stream",
     "text": [
      "epoch:6 train_loss: 13.849942378997802 test_loss: 9.28083324432373\n",
      "epoch 6 R2:0.7456883132665069\n"
     ]
    },
    {
     "name": "stderr",
     "output_type": "stream",
     "text": [
      "epoch: 7 loss: 6.194408416748047: 100%|██████████| 25/25 [00:00<00:00, 83.55it/s] \n",
      "epoch: 8 loss: 17.757461547851562:  56%|█████▌    | 14/25 [00:00<00:00, 88.90it/s]"
     ]
    },
    {
     "name": "stdout",
     "output_type": "stream",
     "text": [
      "epoch:7 train_loss: 10.865447025299073 test_loss: 9.711108207702637\n",
      "epoch 7 R2:0.733897993758193\n"
     ]
    },
    {
     "name": "stderr",
     "output_type": "stream",
     "text": [
      "epoch: 8 loss: 8.728547096252441: 100%|██████████| 25/25 [00:00<00:00, 80.76it/s] \n",
      "epoch: 9 loss: 6.855777740478516:  60%|██████    | 15/25 [00:00<00:00, 82.38it/s] "
     ]
    },
    {
     "name": "stdout",
     "output_type": "stream",
     "text": [
      "epoch:8 train_loss: 10.784581222534179 test_loss: 9.404420852661133\n",
      "epoch 8 R2:0.7423017918669645\n"
     ]
    },
    {
     "name": "stderr",
     "output_type": "stream",
     "text": [
      "epoch: 9 loss: 7.136397361755371: 100%|██████████| 25/25 [00:00<00:00, 69.59it/s] \n",
      "epoch: 10 loss: 13.483345985412598:  44%|████▍     | 11/25 [00:00<00:00, 78.09it/s]"
     ]
    },
    {
     "name": "stdout",
     "output_type": "stream",
     "text": [
      "epoch:9 train_loss: 8.857381715774537 test_loss: 8.76530647277832\n",
      "epoch 9 R2:0.7598146780258137\n"
     ]
    },
    {
     "name": "stderr",
     "output_type": "stream",
     "text": [
      "epoch: 10 loss: 9.774412155151367: 100%|██████████| 25/25 [00:00<00:00, 62.90it/s] \n",
      "epoch: 11 loss: 6.491394519805908:  60%|██████    | 15/25 [00:00<00:00, 80.11it/s] "
     ]
    },
    {
     "name": "stdout",
     "output_type": "stream",
     "text": [
      "epoch:10 train_loss: 10.132697381973266 test_loss: 9.925787925720215\n",
      "epoch 10 R2:0.7280153722152147\n"
     ]
    },
    {
     "name": "stderr",
     "output_type": "stream",
     "text": [
      "epoch: 11 loss: 7.934873580932617: 100%|██████████| 25/25 [00:00<00:00, 80.09it/s] \n",
      "epoch: 12 loss: 5.464684009552002:  56%|█████▌    | 14/25 [00:00<00:00, 79.03it/s] "
     ]
    },
    {
     "name": "stdout",
     "output_type": "stream",
     "text": [
      "epoch:11 train_loss: 10.854047298431396 test_loss: 9.925643920898438\n",
      "epoch 11 R2:0.7280192965173834\n"
     ]
    },
    {
     "name": "stderr",
     "output_type": "stream",
     "text": [
      "epoch: 12 loss: 13.941831588745117: 100%|██████████| 25/25 [00:00<00:00, 77.85it/s]\n",
      "epoch: 13 loss: 7.676680564880371:  60%|██████    | 15/25 [00:00<00:00, 86.54it/s]"
     ]
    },
    {
     "name": "stdout",
     "output_type": "stream",
     "text": [
      "epoch:12 train_loss: 10.0214084815979 test_loss: 10.345266342163086\n",
      "epoch 12 R2:0.7165209108443004\n"
     ]
    },
    {
     "name": "stderr",
     "output_type": "stream",
     "text": [
      "epoch: 13 loss: 3.070788860321045: 100%|██████████| 25/25 [00:00<00:00, 82.89it/s] \n",
      "epoch: 14 loss: 3.7779531478881836:  56%|█████▌    | 14/25 [00:00<00:00, 79.09it/s]"
     ]
    },
    {
     "name": "stdout",
     "output_type": "stream",
     "text": [
      "epoch:13 train_loss: 9.412855319976806 test_loss: 9.8710298538208\n",
      "epoch 13 R2:0.7295158448820438\n"
     ]
    },
    {
     "name": "stderr",
     "output_type": "stream",
     "text": [
      "epoch: 14 loss: 23.405122756958008: 100%|██████████| 25/25 [00:00<00:00, 78.62it/s]\n",
      "epoch: 15 loss: 7.542410850524902:  60%|██████    | 15/25 [00:00<00:00, 86.01it/s] "
     ]
    },
    {
     "name": "stdout",
     "output_type": "stream",
     "text": [
      "epoch:14 train_loss: 8.178569946289063 test_loss: 10.681195259094238\n",
      "epoch 14 R2:0.707315858649237\n"
     ]
    },
    {
     "name": "stderr",
     "output_type": "stream",
     "text": [
      "epoch: 15 loss: 21.74833106994629: 100%|██████████| 25/25 [00:00<00:00, 80.71it/s] \n",
      "epoch: 16 loss: 4.237080097198486:  60%|██████    | 15/25 [00:00<00:00, 80.38it/s] "
     ]
    },
    {
     "name": "stdout",
     "output_type": "stream",
     "text": [
      "epoch:15 train_loss: 9.745396118164063 test_loss: 10.811874389648438\n",
      "epoch 15 R2:0.703735043201954\n"
     ]
    },
    {
     "name": "stderr",
     "output_type": "stream",
     "text": [
      "epoch: 16 loss: 11.519460678100586: 100%|██████████| 25/25 [00:00<00:00, 80.67it/s]\n",
      "epoch: 17 loss: 3.7310171127319336:  56%|█████▌    | 14/25 [00:00<00:00, 82.11it/s]"
     ]
    },
    {
     "name": "stdout",
     "output_type": "stream",
     "text": [
      "epoch:16 train_loss: 9.470083770751954 test_loss: 11.20483684539795\n",
      "epoch 16 R2:0.6929671048203225\n"
     ]
    },
    {
     "name": "stderr",
     "output_type": "stream",
     "text": [
      "epoch: 17 loss: 6.391209602355957: 100%|██████████| 25/25 [00:00<00:00, 79.28it/s] \n",
      "epoch: 18 loss: 15.911972999572754:  60%|██████    | 15/25 [00:00<00:00, 83.91it/s]"
     ]
    },
    {
     "name": "stdout",
     "output_type": "stream",
     "text": [
      "epoch:17 train_loss: 8.43624969482422 test_loss: 10.628158569335938\n",
      "epoch 17 R2:0.7087691644596427\n"
     ]
    },
    {
     "name": "stderr",
     "output_type": "stream",
     "text": [
      "epoch: 18 loss: 10.912869453430176: 100%|██████████| 25/25 [00:00<00:00, 81.07it/s]\n",
      "epoch: 19 loss: 4.167117595672607:  60%|██████    | 15/25 [00:00<00:00, 83.91it/s] "
     ]
    },
    {
     "name": "stdout",
     "output_type": "stream",
     "text": [
      "epoch:18 train_loss: 7.850875015258789 test_loss: 9.989581108093262\n",
      "epoch 18 R2:0.7262673011812839\n"
     ]
    },
    {
     "name": "stderr",
     "output_type": "stream",
     "text": [
      "epoch: 19 loss: 10.686991691589355: 100%|██████████| 25/25 [00:00<00:00, 82.69it/s]\n",
      "epoch: 20 loss: 3.544929027557373:  56%|█████▌    | 14/25 [00:00<00:00, 80.15it/s]"
     ]
    },
    {
     "name": "stdout",
     "output_type": "stream",
     "text": [
      "epoch:19 train_loss: 8.31169225215912 test_loss: 12.532926559448242\n",
      "epoch 19 R2:0.6565750309002458\n"
     ]
    },
    {
     "name": "stderr",
     "output_type": "stream",
     "text": [
      "epoch: 20 loss: 9.332956314086914: 100%|██████████| 25/25 [00:00<00:00, 71.70it/s] \n",
      "epoch: 21 loss: 3.5501599311828613:  56%|█████▌    | 14/25 [00:00<00:00, 88.92it/s]"
     ]
    },
    {
     "name": "stdout",
     "output_type": "stream",
     "text": [
      "epoch:20 train_loss: 7.969590482711792 test_loss: 11.902652740478516\n",
      "epoch 20 R2:0.6738456549887797\n"
     ]
    },
    {
     "name": "stderr",
     "output_type": "stream",
     "text": [
      "epoch: 21 loss: 6.904355525970459: 100%|██████████| 25/25 [00:00<00:00, 75.25it/s] \n",
      "epoch: 22 loss: 3.2076380252838135:  52%|█████▏    | 13/25 [00:00<00:00, 80.13it/s]"
     ]
    },
    {
     "name": "stdout",
     "output_type": "stream",
     "text": [
      "epoch:21 train_loss: 8.30447841644287 test_loss: 12.133492469787598\n",
      "epoch 21 R2:0.6675202769270321\n"
     ]
    },
    {
     "name": "stderr",
     "output_type": "stream",
     "text": [
      "epoch: 22 loss: 6.459768295288086: 100%|██████████| 25/25 [00:00<00:00, 72.38it/s] \n",
      "epoch: 23 loss: 4.163081645965576:  52%|█████▏    | 13/25 [00:00<00:00, 81.20it/s] "
     ]
    },
    {
     "name": "stdout",
     "output_type": "stream",
     "text": [
      "epoch:22 train_loss: 7.617857780456543 test_loss: 10.29395580291748\n",
      "epoch 22 R2:0.7179269009370178\n"
     ]
    },
    {
     "name": "stderr",
     "output_type": "stream",
     "text": [
      "epoch: 23 loss: 5.109625816345215: 100%|██████████| 25/25 [00:00<00:00, 70.36it/s] \n",
      "epoch: 24 loss: 19.982563018798828:  56%|█████▌    | 14/25 [00:00<00:00, 73.85it/s]"
     ]
    },
    {
     "name": "stdout",
     "output_type": "stream",
     "text": [
      "epoch:23 train_loss: 8.210876302719116 test_loss: 9.613094329833984\n",
      "epoch 23 R2:0.7365837277775866\n"
     ]
    },
    {
     "name": "stderr",
     "output_type": "stream",
     "text": [
      "epoch: 24 loss: 5.6002583503723145: 100%|██████████| 25/25 [00:00<00:00, 75.20it/s]\n",
      "epoch: 25 loss: 3.3374593257904053:  60%|██████    | 15/25 [00:00<00:00, 84.57it/s]"
     ]
    },
    {
     "name": "stdout",
     "output_type": "stream",
     "text": [
      "epoch:24 train_loss: 6.881076278686524 test_loss: 12.322641372680664\n",
      "epoch 24 R2:0.6623372324090022\n"
     ]
    },
    {
     "name": "stderr",
     "output_type": "stream",
     "text": [
      "epoch: 25 loss: 11.39673900604248: 100%|██████████| 25/25 [00:00<00:00, 81.48it/s] \n",
      "epoch: 26 loss: 5.265045642852783:  40%|████      | 10/25 [00:00<00:00, 59.45it/s]"
     ]
    },
    {
     "name": "stdout",
     "output_type": "stream",
     "text": [
      "epoch:25 train_loss: 8.232994413375854 test_loss: 11.21477222442627\n",
      "epoch 25 R2:0.6926949090668157\n"
     ]
    },
    {
     "name": "stderr",
     "output_type": "stream",
     "text": [
      "epoch: 26 loss: 10.188385963439941: 100%|██████████| 25/25 [00:00<00:00, 56.72it/s]\n",
      "epoch: 27 loss: 3.4768378734588623:  36%|███▌      | 9/25 [00:00<00:00, 56.90it/s]"
     ]
    },
    {
     "name": "stdout",
     "output_type": "stream",
     "text": [
      "epoch:26 train_loss: 7.585146408081055 test_loss: 11.509708404541016\n",
      "epoch 26 R2:0.6846131137613154\n"
     ]
    },
    {
     "name": "stderr",
     "output_type": "stream",
     "text": [
      "epoch: 27 loss: 2.8501486778259277: 100%|██████████| 25/25 [00:00<00:00, 58.10it/s]\n",
      "epoch: 28 loss: 9.295051574707031:  44%|████▍     | 11/25 [00:00<00:00, 71.42it/s]"
     ]
    },
    {
     "name": "stdout",
     "output_type": "stream",
     "text": [
      "epoch:27 train_loss: 6.44835976600647 test_loss: 9.988635063171387\n",
      "epoch 27 R2:0.7262932733039219\n"
     ]
    },
    {
     "name": "stderr",
     "output_type": "stream",
     "text": [
      "epoch: 28 loss: 6.635317325592041: 100%|██████████| 25/25 [00:00<00:00, 66.98it/s] \n",
      "epoch: 29 loss: 6.519505500793457:  56%|█████▌    | 14/25 [00:00<00:00, 78.49it/s] "
     ]
    },
    {
     "name": "stdout",
     "output_type": "stream",
     "text": [
      "epoch:28 train_loss: 7.563338584899903 test_loss: 12.403199195861816\n",
      "epoch 28 R2:0.6601298112481953\n"
     ]
    },
    {
     "name": "stderr",
     "output_type": "stream",
     "text": [
      "epoch: 29 loss: 7.29966402053833: 100%|██████████| 25/25 [00:00<00:00, 75.55it/s] \n",
      "epoch: 30 loss: 12.140029907226562:  52%|█████▏    | 13/25 [00:00<00:00, 69.60it/s]"
     ]
    },
    {
     "name": "stdout",
     "output_type": "stream",
     "text": [
      "epoch:29 train_loss: 7.096586761474609 test_loss: 10.233498573303223\n",
      "epoch 29 R2:0.719583529041584\n"
     ]
    },
    {
     "name": "stderr",
     "output_type": "stream",
     "text": [
      "epoch: 30 loss: 3.3224332332611084: 100%|██████████| 25/25 [00:00<00:00, 71.50it/s]\n",
      "epoch: 31 loss: 4.739843845367432:  56%|█████▌    | 14/25 [00:00<00:00, 78.55it/s]"
     ]
    },
    {
     "name": "stdout",
     "output_type": "stream",
     "text": [
      "epoch:30 train_loss: 6.892314310073853 test_loss: 10.959187507629395\n",
      "epoch 30 R2:0.6996983833309021\n"
     ]
    },
    {
     "name": "stderr",
     "output_type": "stream",
     "text": [
      "epoch: 31 loss: 5.461258888244629: 100%|██████████| 25/25 [00:00<00:00, 77.00it/s] \n",
      "epoch: 32 loss: 7.303749084472656:  56%|█████▌    | 14/25 [00:00<00:00, 79.69it/s] "
     ]
    },
    {
     "name": "stdout",
     "output_type": "stream",
     "text": [
      "epoch:31 train_loss: 6.875078468322754 test_loss: 10.899666786193848\n",
      "epoch 31 R2:0.7013293250787058\n"
     ]
    },
    {
     "name": "stderr",
     "output_type": "stream",
     "text": [
      "epoch: 32 loss: 6.485638618469238: 100%|██████████| 25/25 [00:00<00:00, 73.49it/s] \n",
      "epoch: 33 loss: 9.689590454101562:  56%|█████▌    | 14/25 [00:00<00:00, 73.41it/s]"
     ]
    },
    {
     "name": "stdout",
     "output_type": "stream",
     "text": [
      "epoch:32 train_loss: 6.918048830032348 test_loss: 11.209952354431152\n",
      "epoch 32 R2:0.6928269454252354\n"
     ]
    },
    {
     "name": "stderr",
     "output_type": "stream",
     "text": [
      "epoch: 33 loss: 2.7592716217041016: 100%|██████████| 25/25 [00:00<00:00, 75.20it/s]\n",
      "epoch: 34 loss: 2.6857752799987793:  56%|█████▌    | 14/25 [00:00<00:00, 76.76it/s]"
     ]
    },
    {
     "name": "stdout",
     "output_type": "stream",
     "text": [
      "epoch:33 train_loss: 6.526600790023804 test_loss: 10.017539978027344\n",
      "epoch 33 R2:0.7255011704372392\n"
     ]
    },
    {
     "name": "stderr",
     "output_type": "stream",
     "text": [
      "epoch: 34 loss: 4.722230911254883: 100%|██████████| 25/25 [00:00<00:00, 77.91it/s] \n",
      "epoch: 35 loss: 9.267476081848145:  60%|██████    | 15/25 [00:00<00:00, 85.90it/s] "
     ]
    },
    {
     "name": "stdout",
     "output_type": "stream",
     "text": [
      "epoch:34 train_loss: 7.53095645904541 test_loss: 10.043514251708984\n",
      "epoch 34 R2:0.7247894744267815\n"
     ]
    },
    {
     "name": "stderr",
     "output_type": "stream",
     "text": [
      "epoch: 35 loss: 7.273831367492676: 100%|██████████| 25/25 [00:00<00:00, 82.16it/s] \n",
      "epoch: 36 loss: 6.91247034072876:  56%|█████▌    | 14/25 [00:00<00:00, 76.87it/s]  "
     ]
    },
    {
     "name": "stdout",
     "output_type": "stream",
     "text": [
      "epoch:35 train_loss: 8.678114595413208 test_loss: 11.92033576965332\n",
      "epoch 35 R2:0.6733612195830116\n"
     ]
    },
    {
     "name": "stderr",
     "output_type": "stream",
     "text": [
      "epoch: 36 loss: 5.822055816650391: 100%|██████████| 25/25 [00:00<00:00, 76.83it/s] \n",
      "epoch: 37 loss: 5.438968181610107:  56%|█████▌    | 14/25 [00:00<00:00, 78.49it/s] "
     ]
    },
    {
     "name": "stdout",
     "output_type": "stream",
     "text": [
      "epoch:36 train_loss: 7.8567582130432125 test_loss: 9.428582191467285\n",
      "epoch 36 R2:0.7416397089797772\n"
     ]
    },
    {
     "name": "stderr",
     "output_type": "stream",
     "text": [
      "epoch: 37 loss: 4.548172950744629: 100%|██████████| 25/25 [00:00<00:00, 73.88it/s] \n",
      "epoch: 38 loss: 3.7358641624450684:  52%|█████▏    | 13/25 [00:00<00:00, 66.97it/s]"
     ]
    },
    {
     "name": "stdout",
     "output_type": "stream",
     "text": [
      "epoch:37 train_loss: 6.363377418518066 test_loss: 8.865574836730957\n",
      "epoch 37 R2:0.7570671603568153\n"
     ]
    },
    {
     "name": "stderr",
     "output_type": "stream",
     "text": [
      "epoch: 38 loss: 2.927293300628662: 100%|██████████| 25/25 [00:00<00:00, 71.71it/s] \n",
      "epoch: 39 loss: 6.549629211425781:  56%|█████▌    | 14/25 [00:00<00:00, 75.41it/s] "
     ]
    },
    {
     "name": "stdout",
     "output_type": "stream",
     "text": [
      "epoch:38 train_loss: 5.960547018051147 test_loss: 11.55474853515625\n",
      "epoch 38 R2:0.6833788687194783\n"
     ]
    },
    {
     "name": "stderr",
     "output_type": "stream",
     "text": [
      "epoch: 39 loss: 32.248687744140625: 100%|██████████| 25/25 [00:00<00:00, 75.80it/s]\n",
      "epoch: 40 loss: 5.961014747619629:  48%|████▊     | 12/25 [00:00<00:00, 82.71it/s]"
     ]
    },
    {
     "name": "stdout",
     "output_type": "stream",
     "text": [
      "epoch:39 train_loss: 6.636911039352417 test_loss: 9.403583526611328\n",
      "epoch 39 R2:0.7423247117653167\n"
     ]
    },
    {
     "name": "stderr",
     "output_type": "stream",
     "text": [
      "epoch: 40 loss: 9.148344993591309: 100%|██████████| 25/25 [00:00<00:00, 71.19it/s] \n",
      "epoch: 41 loss: 2.8990721702575684:  44%|████▍     | 11/25 [00:00<00:00, 62.28it/s]"
     ]
    },
    {
     "name": "stdout",
     "output_type": "stream",
     "text": [
      "epoch:40 train_loss: 7.431150989532471 test_loss: 8.623719215393066\n",
      "epoch 40 R2:0.7636944305097584\n"
     ]
    },
    {
     "name": "stderr",
     "output_type": "stream",
     "text": [
      "epoch: 41 loss: 17.83098793029785: 100%|██████████| 25/25 [00:00<00:00, 63.47it/s] \n",
      "epoch: 42 loss: 4.258244514465332:  48%|████▊     | 12/25 [00:00<00:00, 63.06it/s]"
     ]
    },
    {
     "name": "stdout",
     "output_type": "stream",
     "text": [
      "epoch:41 train_loss: 6.422849969863892 test_loss: 10.070551872253418\n",
      "epoch 41 R2:0.7240485500144725\n"
     ]
    },
    {
     "name": "stderr",
     "output_type": "stream",
     "text": [
      "epoch: 42 loss: 3.7550888061523438: 100%|██████████| 25/25 [00:00<00:00, 71.25it/s]\n",
      "epoch: 43 loss: 3.7810521125793457:  56%|█████▌    | 14/25 [00:00<00:00, 74.46it/s]"
     ]
    },
    {
     "name": "stdout",
     "output_type": "stream",
     "text": [
      "epoch:42 train_loss: 6.709099001884461 test_loss: 8.855317115783691\n",
      "epoch 42 R2:0.7573482084091516\n"
     ]
    },
    {
     "name": "stderr",
     "output_type": "stream",
     "text": [
      "epoch: 43 loss: 2.9731297492980957: 100%|██████████| 25/25 [00:00<00:00, 77.74it/s]\n",
      "epoch: 44 loss: 21.430578231811523:  56%|█████▌    | 14/25 [00:00<00:00, 78.64it/s]"
     ]
    },
    {
     "name": "stdout",
     "output_type": "stream",
     "text": [
      "epoch:43 train_loss: 7.069409017562866 test_loss: 8.971014022827148\n",
      "epoch 43 R2:0.7541779280823346\n"
     ]
    },
    {
     "name": "stderr",
     "output_type": "stream",
     "text": [
      "epoch: 44 loss: 3.1912434101104736: 100%|██████████| 25/25 [00:00<00:00, 71.84it/s]\n",
      "epoch: 45 loss: 8.717103958129883:  60%|██████    | 15/25 [00:00<00:00, 76.46it/s] "
     ]
    },
    {
     "name": "stdout",
     "output_type": "stream",
     "text": [
      "epoch:44 train_loss: 6.211592693328857 test_loss: 11.69997501373291\n",
      "epoch 44 R2:0.6793994274172054\n"
     ]
    },
    {
     "name": "stderr",
     "output_type": "stream",
     "text": [
      "epoch: 45 loss: 5.903704643249512: 100%|██████████| 25/25 [00:00<00:00, 78.69it/s] \n",
      "epoch: 46 loss: 5.335055351257324:  60%|██████    | 15/25 [00:00<00:00, 79.73it/s] "
     ]
    },
    {
     "name": "stdout",
     "output_type": "stream",
     "text": [
      "epoch:45 train_loss: 6.553935270309449 test_loss: 10.703633308410645\n",
      "epoch 45 R2:0.7067010242166549\n"
     ]
    },
    {
     "name": "stderr",
     "output_type": "stream",
     "text": [
      "epoch: 46 loss: 7.6554670333862305: 100%|██████████| 25/25 [00:00<00:00, 78.89it/s]\n",
      "epoch: 47 loss: 7.111156463623047:  56%|█████▌    | 14/25 [00:00<00:00, 81.12it/s] "
     ]
    },
    {
     "name": "stdout",
     "output_type": "stream",
     "text": [
      "epoch:46 train_loss: 6.342604055404663 test_loss: 11.41537857055664\n",
      "epoch 46 R2:0.6871978162217633\n"
     ]
    },
    {
     "name": "stderr",
     "output_type": "stream",
     "text": [
      "epoch: 47 loss: 5.549196243286133: 100%|██████████| 25/25 [00:00<00:00, 78.31it/s] \n",
      "epoch: 48 loss: 6.756425857543945:  56%|█████▌    | 14/25 [00:00<00:00, 78.66it/s] "
     ]
    },
    {
     "name": "stdout",
     "output_type": "stream",
     "text": [
      "epoch:47 train_loss: 6.401936511993409 test_loss: 10.466551780700684\n",
      "epoch 47 R2:0.7131974595564519\n"
     ]
    },
    {
     "name": "stderr",
     "output_type": "stream",
     "text": [
      "epoch: 48 loss: 3.990079879760742: 100%|██████████| 25/25 [00:00<00:00, 77.34it/s]\n",
      "epoch: 49 loss: 5.072226524353027:  56%|█████▌    | 14/25 [00:00<00:00, 77.12it/s]"
     ]
    },
    {
     "name": "stdout",
     "output_type": "stream",
     "text": [
      "epoch:48 train_loss: 6.251642255783081 test_loss: 11.218759536743164\n",
      "epoch 48 R2:0.6925855862513486\n"
     ]
    },
    {
     "name": "stderr",
     "output_type": "stream",
     "text": [
      "epoch: 49 loss: 15.668198585510254: 100%|██████████| 25/25 [00:00<00:00, 69.07it/s]\n",
      "epoch: 50 loss: 6.008556365966797:  52%|█████▏    | 13/25 [00:00<00:00, 74.19it/s]"
     ]
    },
    {
     "name": "stdout",
     "output_type": "stream",
     "text": [
      "epoch:49 train_loss: 6.8260031509399415 test_loss: 10.719849586486816\n",
      "epoch 49 R2:0.7062566210991414\n"
     ]
    },
    {
     "name": "stderr",
     "output_type": "stream",
     "text": [
      "epoch: 50 loss: 5.086605548858643: 100%|██████████| 25/25 [00:00<00:00, 74.97it/s] \n",
      "epoch: 51 loss: 9.127203941345215:  52%|█████▏    | 13/25 [00:00<00:00, 79.77it/s] "
     ]
    },
    {
     "name": "stdout",
     "output_type": "stream",
     "text": [
      "epoch:50 train_loss: 5.321292562484741 test_loss: 9.23405647277832\n",
      "epoch 50 R2:0.7469700855363455\n"
     ]
    },
    {
     "name": "stderr",
     "output_type": "stream",
     "text": [
      "epoch: 51 loss: 4.20121955871582: 100%|██████████| 25/25 [00:00<00:00, 70.87it/s]  \n",
      "epoch: 52 loss: 3.0349974632263184:  60%|██████    | 15/25 [00:00<00:00, 85.71it/s]"
     ]
    },
    {
     "name": "stdout",
     "output_type": "stream",
     "text": [
      "epoch:51 train_loss: 6.018165512084961 test_loss: 9.705111503601074\n",
      "epoch 51 R2:0.7340623182625168\n"
     ]
    },
    {
     "name": "stderr",
     "output_type": "stream",
     "text": [
      "epoch: 52 loss: 2.6516458988189697: 100%|██████████| 25/25 [00:00<00:00, 82.67it/s]\n",
      "epoch: 53 loss: 3.4017343521118164:  56%|█████▌    | 14/25 [00:00<00:00, 71.47it/s]"
     ]
    },
    {
     "name": "stdout",
     "output_type": "stream",
     "text": [
      "epoch:52 train_loss: 5.608750877380371 test_loss: 10.249475479125977\n",
      "epoch 52 R2:0.7191457106402606\n"
     ]
    },
    {
     "name": "stderr",
     "output_type": "stream",
     "text": [
      "epoch: 53 loss: 2.600949287414551: 100%|██████████| 25/25 [00:00<00:00, 75.12it/s] \n",
      "epoch: 54 loss: 3.3048672676086426:  56%|█████▌    | 14/25 [00:00<00:00, 82.80it/s]"
     ]
    },
    {
     "name": "stdout",
     "output_type": "stream",
     "text": [
      "epoch:53 train_loss: 5.069698610305786 test_loss: 9.103653907775879\n",
      "epoch 53 R2:0.7505433306735555\n"
     ]
    },
    {
     "name": "stderr",
     "output_type": "stream",
     "text": [
      "epoch: 54 loss: 1.953165054321289: 100%|██████████| 25/25 [00:00<00:00, 79.06it/s] \n",
      "epoch: 55 loss: 5.601640224456787:  48%|████▊     | 12/25 [00:00<00:00, 66.46it/s]"
     ]
    },
    {
     "name": "stdout",
     "output_type": "stream",
     "text": [
      "epoch:54 train_loss: 5.626608490943909 test_loss: 10.912530899047852\n",
      "epoch 54 R2:0.70097680460223\n"
     ]
    },
    {
     "name": "stderr",
     "output_type": "stream",
     "text": [
      "epoch: 55 loss: 2.6086606979370117: 100%|██████████| 25/25 [00:00<00:00, 71.98it/s]\n",
      "epoch: 56 loss: 17.40412139892578:  52%|█████▏    | 13/25 [00:00<00:00, 79.72it/s] "
     ]
    },
    {
     "name": "stdout",
     "output_type": "stream",
     "text": [
      "epoch:55 train_loss: 5.833996725082398 test_loss: 8.432740211486816\n",
      "epoch 55 R2:0.7689276242764252\n"
     ]
    },
    {
     "name": "stderr",
     "output_type": "stream",
     "text": [
      "epoch: 56 loss: 9.298360824584961: 100%|██████████| 25/25 [00:00<00:00, 71.38it/s] \n",
      "epoch: 57 loss: 7.05559778213501:  52%|█████▏    | 13/25 [00:00<00:00, 72.83it/s]  "
     ]
    },
    {
     "name": "stdout",
     "output_type": "stream",
     "text": [
      "epoch:56 train_loss: 5.838300924301148 test_loss: 12.01413345336914\n",
      "epoch 56 R2:0.6707909308291111\n"
     ]
    },
    {
     "name": "stderr",
     "output_type": "stream",
     "text": [
      "epoch: 57 loss: 25.12032699584961: 100%|██████████| 25/25 [00:00<00:00, 71.98it/s] \n",
      "epoch: 58 loss: 3.5979950428009033:  52%|█████▏    | 13/25 [00:00<00:00, 76.09it/s]"
     ]
    },
    {
     "name": "stdout",
     "output_type": "stream",
     "text": [
      "epoch:57 train_loss: 6.313177680969238 test_loss: 8.094805717468262\n",
      "epoch 57 R2:0.7781876041763798\n"
     ]
    },
    {
     "name": "stderr",
     "output_type": "stream",
     "text": [
      "epoch: 58 loss: 13.000699996948242: 100%|██████████| 25/25 [00:00<00:00, 70.14it/s]\n",
      "epoch: 59 loss: 3.513761043548584:  48%|████▊     | 12/25 [00:00<00:00, 69.94it/s] "
     ]
    },
    {
     "name": "stdout",
     "output_type": "stream",
     "text": [
      "epoch:58 train_loss: 6.076728076934814 test_loss: 11.909537315368652\n",
      "epoch 58 R2:0.6736570254277954\n"
     ]
    },
    {
     "name": "stderr",
     "output_type": "stream",
     "text": [
      "epoch: 59 loss: 5.206259727478027: 100%|██████████| 25/25 [00:00<00:00, 70.60it/s] \n",
      "epoch: 60 loss: 5.68704080581665:  56%|█████▌    | 14/25 [00:00<00:00, 75.45it/s]  "
     ]
    },
    {
     "name": "stdout",
     "output_type": "stream",
     "text": [
      "epoch:59 train_loss: 6.087668490409851 test_loss: 11.33053207397461\n",
      "epoch 59 R2:0.6895228291630955\n"
     ]
    },
    {
     "name": "stderr",
     "output_type": "stream",
     "text": [
      "epoch: 60 loss: 4.707863807678223: 100%|██████████| 25/25 [00:00<00:00, 75.89it/s] \n",
      "epoch: 61 loss: 7.705267429351807:  56%|█████▌    | 14/25 [00:00<00:00, 76.73it/s] "
     ]
    },
    {
     "name": "stdout",
     "output_type": "stream",
     "text": [
      "epoch:60 train_loss: 6.757378692626953 test_loss: 9.465782165527344\n",
      "epoch 60 R2:0.7406203622593805\n"
     ]
    },
    {
     "name": "stderr",
     "output_type": "stream",
     "text": [
      "epoch: 61 loss: 3.151942729949951: 100%|██████████| 25/25 [00:00<00:00, 75.10it/s] \n",
      "epoch: 62 loss: 7.389470100402832:  48%|████▊     | 12/25 [00:00<00:00, 59.98it/s] "
     ]
    },
    {
     "name": "stdout",
     "output_type": "stream",
     "text": [
      "epoch:61 train_loss: 5.472697448730469 test_loss: 9.532392501831055\n",
      "epoch 61 R2:0.7387951215524775\n"
     ]
    },
    {
     "name": "stderr",
     "output_type": "stream",
     "text": [
      "epoch: 62 loss: 3.6364336013793945: 100%|██████████| 25/25 [00:00<00:00, 72.11it/s]\n",
      "epoch: 63 loss: 4.189272880554199:  56%|█████▌    | 14/25 [00:00<00:00, 80.65it/s]"
     ]
    },
    {
     "name": "stdout",
     "output_type": "stream",
     "text": [
      "epoch:62 train_loss: 6.3149968528747555 test_loss: 9.973546028137207\n",
      "epoch 62 R2:0.7267066838098997\n"
     ]
    },
    {
     "name": "stderr",
     "output_type": "stream",
     "text": [
      "epoch: 63 loss: 4.754737854003906: 100%|██████████| 25/25 [00:00<00:00, 78.59it/s] \n",
      "epoch: 64 loss: 4.273044586181641:  52%|█████▏    | 13/25 [00:00<00:00, 74.56it/s] "
     ]
    },
    {
     "name": "stdout",
     "output_type": "stream",
     "text": [
      "epoch:63 train_loss: 5.209825973510743 test_loss: 9.661652565002441\n",
      "epoch 63 R2:0.7352531518794732\n"
     ]
    },
    {
     "name": "stderr",
     "output_type": "stream",
     "text": [
      "epoch: 64 loss: 6.1092634201049805: 100%|██████████| 25/25 [00:00<00:00, 73.76it/s]\n",
      "epoch: 65 loss: 7.786162853240967:  60%|██████    | 15/25 [00:00<00:00, 81.26it/s]"
     ]
    },
    {
     "name": "stdout",
     "output_type": "stream",
     "text": [
      "epoch:64 train_loss: 5.900704412460327 test_loss: 11.076884269714355\n",
      "epoch 64 R2:0.6964732541558587\n"
     ]
    },
    {
     "name": "stderr",
     "output_type": "stream",
     "text": [
      "epoch: 65 loss: 1.9462858438491821: 100%|██████████| 25/25 [00:00<00:00, 80.44it/s]\n",
      "epoch: 66 loss: 4.398670196533203:  48%|████▊     | 12/25 [00:00<00:00, 70.00it/s] "
     ]
    },
    {
     "name": "stdout",
     "output_type": "stream",
     "text": [
      "epoch:65 train_loss: 6.024658885002136 test_loss: 8.066813468933105\n",
      "epoch 65 R2:0.7789546815201903\n"
     ]
    },
    {
     "name": "stderr",
     "output_type": "stream",
     "text": [
      "epoch: 66 loss: 4.319716930389404: 100%|██████████| 25/25 [00:00<00:00, 71.45it/s] \n",
      "epoch: 67 loss: 6.536796569824219:  56%|█████▌    | 14/25 [00:00<00:00, 83.33it/s] "
     ]
    },
    {
     "name": "stdout",
     "output_type": "stream",
     "text": [
      "epoch:66 train_loss: 5.592874240875244 test_loss: 10.880062103271484\n",
      "epoch 66 R2:0.7018665581249353\n"
     ]
    },
    {
     "name": "stderr",
     "output_type": "stream",
     "text": [
      "epoch: 67 loss: 5.285730361938477: 100%|██████████| 25/25 [00:00<00:00, 80.17it/s] \n",
      "epoch: 68 loss: 3.3721189498901367:  48%|████▊     | 12/25 [00:00<00:00, 68.71it/s]"
     ]
    },
    {
     "name": "stdout",
     "output_type": "stream",
     "text": [
      "epoch:67 train_loss: 5.364248991012573 test_loss: 8.625003814697266\n",
      "epoch 67 R2:0.7636592095816481\n"
     ]
    },
    {
     "name": "stderr",
     "output_type": "stream",
     "text": [
      "epoch: 68 loss: 5.152110576629639: 100%|██████████| 25/25 [00:00<00:00, 71.83it/s] \n",
      "epoch: 69 loss: 2.681731700897217:  56%|█████▌    | 14/25 [00:00<00:00, 77.13it/s] "
     ]
    },
    {
     "name": "stdout",
     "output_type": "stream",
     "text": [
      "epoch:68 train_loss: 5.395010466575623 test_loss: 7.590104103088379\n",
      "epoch 68 R2:0.7920173731275663\n"
     ]
    },
    {
     "name": "stderr",
     "output_type": "stream",
     "text": [
      "epoch: 69 loss: 14.193136215209961: 100%|██████████| 25/25 [00:00<00:00, 75.56it/s]\n",
      "epoch: 70 loss: 11.968746185302734:  48%|████▊     | 12/25 [00:00<00:00, 62.64it/s]"
     ]
    },
    {
     "name": "stdout",
     "output_type": "stream",
     "text": [
      "epoch:69 train_loss: 6.877131128311158 test_loss: 10.17927074432373\n",
      "epoch 69 R2:0.7210694860132839\n"
     ]
    },
    {
     "name": "stderr",
     "output_type": "stream",
     "text": [
      "epoch: 70 loss: 2.2115912437438965: 100%|██████████| 25/25 [00:00<00:00, 69.96it/s]\n",
      "epoch: 71 loss: 3.80448579788208:  56%|█████▌    | 14/25 [00:00<00:00, 81.34it/s]  "
     ]
    },
    {
     "name": "stdout",
     "output_type": "stream",
     "text": [
      "epoch:70 train_loss: 6.080612993240356 test_loss: 9.04039478302002\n",
      "epoch 70 R2:0.7522767290658753\n"
     ]
    },
    {
     "name": "stderr",
     "output_type": "stream",
     "text": [
      "epoch: 71 loss: 2.3230485916137695: 100%|██████████| 25/25 [00:00<00:00, 73.00it/s]\n",
      "epoch: 72 loss: 3.2119760513305664:  40%|████      | 10/25 [00:00<00:00, 51.52it/s]"
     ]
    },
    {
     "name": "stdout",
     "output_type": "stream",
     "text": [
      "epoch:71 train_loss: 5.909335346221924 test_loss: 7.553951263427734\n",
      "epoch 71 R2:0.793008030742324\n"
     ]
    },
    {
     "name": "stderr",
     "output_type": "stream",
     "text": [
      "epoch: 72 loss: 3.804443120956421: 100%|██████████| 25/25 [00:00<00:00, 64.32it/s] \n",
      "epoch: 73 loss: 7.022096633911133:  56%|█████▌    | 14/25 [00:00<00:00, 79.54it/s] "
     ]
    },
    {
     "name": "stdout",
     "output_type": "stream",
     "text": [
      "epoch:72 train_loss: 5.68750750541687 test_loss: 11.345304489135742\n",
      "epoch 72 R2:0.6891180456640189\n"
     ]
    },
    {
     "name": "stderr",
     "output_type": "stream",
     "text": [
      "epoch: 73 loss: 4.35365104675293: 100%|██████████| 25/25 [00:00<00:00, 76.27it/s]  \n",
      "epoch: 74 loss: 14.68422794342041:  56%|█████▌    | 14/25 [00:00<00:00, 79.54it/s] "
     ]
    },
    {
     "name": "stdout",
     "output_type": "stream",
     "text": [
      "epoch:73 train_loss: 5.875677890777588 test_loss: 8.667043685913086\n",
      "epoch 73 R2:0.7625072575615988\n"
     ]
    },
    {
     "name": "stderr",
     "output_type": "stream",
     "text": [
      "epoch: 74 loss: 5.836558818817139: 100%|██████████| 25/25 [00:00<00:00, 75.14it/s] \n",
      "epoch: 75 loss: 5.573369026184082:  52%|█████▏    | 13/25 [00:00<00:00, 81.32it/s]"
     ]
    },
    {
     "name": "stdout",
     "output_type": "stream",
     "text": [
      "epoch:74 train_loss: 6.3719967126846315 test_loss: 11.28985595703125\n",
      "epoch 74 R2:0.6906374378478379\n"
     ]
    },
    {
     "name": "stderr",
     "output_type": "stream",
     "text": [
      "epoch: 75 loss: 2.7302169799804688: 100%|██████████| 25/25 [00:00<00:00, 68.59it/s]\n",
      "epoch: 76 loss: 12.779687881469727:  52%|█████▏    | 13/25 [00:00<00:00, 73.15it/s]"
     ]
    },
    {
     "name": "stdout",
     "output_type": "stream",
     "text": [
      "epoch:75 train_loss: 5.577326889038086 test_loss: 11.544485092163086\n",
      "epoch 75 R2:0.6836600490798768\n"
     ]
    },
    {
     "name": "stderr",
     "output_type": "stream",
     "text": [
      "epoch: 76 loss: 15.993274688720703: 100%|██████████| 25/25 [00:00<00:00, 71.28it/s]\n",
      "epoch: 77 loss: 5.361374855041504:  52%|█████▏    | 13/25 [00:00<00:00, 69.22it/s] "
     ]
    },
    {
     "name": "stdout",
     "output_type": "stream",
     "text": [
      "epoch:76 train_loss: 5.730933351516724 test_loss: 7.552741050720215\n",
      "epoch 76 R2:0.7930411687795412\n"
     ]
    },
    {
     "name": "stderr",
     "output_type": "stream",
     "text": [
      "epoch: 77 loss: 4.762837886810303: 100%|██████████| 25/25 [00:00<00:00, 70.50it/s] \n",
      "epoch: 78 loss: 4.303083419799805:  40%|████      | 10/25 [00:00<00:00, 58.38it/s]"
     ]
    },
    {
     "name": "stdout",
     "output_type": "stream",
     "text": [
      "epoch:77 train_loss: 5.506192383766174 test_loss: 8.565468788146973\n",
      "epoch 77 R2:0.765290603736517\n"
     ]
    },
    {
     "name": "stderr",
     "output_type": "stream",
     "text": [
      "epoch: 78 loss: 3.628370761871338: 100%|██████████| 25/25 [00:00<00:00, 58.31it/s] \n",
      "epoch: 79 loss: 3.7337026596069336:  56%|█████▌    | 14/25 [00:00<00:00, 79.20it/s]"
     ]
    },
    {
     "name": "stdout",
     "output_type": "stream",
     "text": [
      "epoch:78 train_loss: 5.10791512966156 test_loss: 9.471386909484863\n",
      "epoch 78 R2:0.7404667840045787\n"
     ]
    },
    {
     "name": "stderr",
     "output_type": "stream",
     "text": [
      "epoch: 79 loss: 4.971601486206055: 100%|██████████| 25/25 [00:00<00:00, 68.97it/s] \n",
      "epoch: 80 loss: 6.460789203643799:  52%|█████▏    | 13/25 [00:00<00:00, 65.53it/s]"
     ]
    },
    {
     "name": "stdout",
     "output_type": "stream",
     "text": [
      "epoch:79 train_loss: 4.871267213821411 test_loss: 9.044901847839355\n",
      "epoch 79 R2:0.7521532864131282\n"
     ]
    },
    {
     "name": "stderr",
     "output_type": "stream",
     "text": [
      "epoch: 80 loss: 3.037494659423828: 100%|██████████| 25/25 [00:00<00:00, 72.45it/s] \n",
      "epoch: 81 loss: 5.210135459899902:  56%|█████▌    | 14/25 [00:00<00:00, 76.70it/s] "
     ]
    },
    {
     "name": "stdout",
     "output_type": "stream",
     "text": [
      "epoch:80 train_loss: 5.137271976470947 test_loss: 9.571996688842773\n",
      "epoch 80 R2:0.7377098769282899\n"
     ]
    },
    {
     "name": "stderr",
     "output_type": "stream",
     "text": [
      "epoch: 81 loss: 4.129254341125488: 100%|██████████| 25/25 [00:00<00:00, 75.12it/s] \n",
      "epoch: 82 loss: 6.160462379455566:  56%|█████▌    | 14/25 [00:00<00:00, 79.51it/s] "
     ]
    },
    {
     "name": "stdout",
     "output_type": "stream",
     "text": [
      "epoch:81 train_loss: 5.540505867004395 test_loss: 9.717556953430176\n",
      "epoch 81 R2:0.7337212572594028\n"
     ]
    },
    {
     "name": "stderr",
     "output_type": "stream",
     "text": [
      "epoch: 82 loss: 1.7727763652801514: 100%|██████████| 25/25 [00:00<00:00, 76.36it/s]\n",
      "epoch: 83 loss: 4.777179718017578:  52%|█████▏    | 13/25 [00:00<00:00, 78.46it/s] "
     ]
    },
    {
     "name": "stdout",
     "output_type": "stream",
     "text": [
      "epoch:82 train_loss: 4.975815038681031 test_loss: 11.175211906433105\n",
      "epoch 82 R2:0.69377892277996\n"
     ]
    },
    {
     "name": "stderr",
     "output_type": "stream",
     "text": [
      "epoch: 83 loss: 3.400528907775879: 100%|██████████| 25/25 [00:00<00:00, 71.87it/s] \n",
      "epoch: 84 loss: 2.934412717819214:  56%|█████▌    | 14/25 [00:00<00:00, 78.30it/s]"
     ]
    },
    {
     "name": "stdout",
     "output_type": "stream",
     "text": [
      "epoch:83 train_loss: 5.480190415382385 test_loss: 8.364277839660645\n",
      "epoch 83 R2:0.7708035985971188\n"
     ]
    },
    {
     "name": "stderr",
     "output_type": "stream",
     "text": [
      "epoch: 84 loss: 5.769714832305908: 100%|██████████| 25/25 [00:00<00:00, 78.94it/s] \n",
      "epoch: 85 loss: 3.6447231769561768:  56%|█████▌    | 14/25 [00:00<00:00, 82.69it/s]"
     ]
    },
    {
     "name": "stdout",
     "output_type": "stream",
     "text": [
      "epoch:84 train_loss: 5.597053322792053 test_loss: 8.254860877990723\n",
      "epoch 84 R2:0.7738018059446781\n"
     ]
    },
    {
     "name": "stderr",
     "output_type": "stream",
     "text": [
      "epoch: 85 loss: 7.790274620056152: 100%|██████████| 25/25 [00:00<00:00, 78.98it/s] \n",
      "epoch: 86 loss: 4.198001861572266:  56%|█████▌    | 14/25 [00:00<00:00, 77.09it/s] "
     ]
    },
    {
     "name": "stdout",
     "output_type": "stream",
     "text": [
      "epoch:85 train_loss: 4.918899440765381 test_loss: 9.038354873657227\n",
      "epoch 85 R2:0.7523326631605215\n"
     ]
    },
    {
     "name": "stderr",
     "output_type": "stream",
     "text": [
      "epoch: 86 loss: 8.417838096618652: 100%|██████████| 25/25 [00:00<00:00, 75.71it/s] \n",
      "epoch: 87 loss: 3.532809257507324:  56%|█████▌    | 14/25 [00:00<00:00, 78.17it/s] "
     ]
    },
    {
     "name": "stdout",
     "output_type": "stream",
     "text": [
      "epoch:86 train_loss: 4.924141893386841 test_loss: 10.038010597229004\n",
      "epoch 86 R2:0.7249402665059907\n"
     ]
    },
    {
     "name": "stderr",
     "output_type": "stream",
     "text": [
      "epoch: 87 loss: 5.464488983154297: 100%|██████████| 25/25 [00:00<00:00, 73.92it/s] \n",
      "epoch: 88 loss: 5.211455345153809:  52%|█████▏    | 13/25 [00:00<00:00, 75.97it/s] "
     ]
    },
    {
     "name": "stdout",
     "output_type": "stream",
     "text": [
      "epoch:87 train_loss: 4.934702849388122 test_loss: 11.419384956359863\n",
      "epoch 87 R2:0.6870880757235999\n"
     ]
    },
    {
     "name": "stderr",
     "output_type": "stream",
     "text": [
      "epoch: 88 loss: 4.033078193664551: 100%|██████████| 25/25 [00:00<00:00, 73.29it/s] \n",
      "epoch: 89 loss: 2.998383045196533:  56%|█████▌    | 14/25 [00:00<00:00, 79.43it/s] "
     ]
    },
    {
     "name": "stdout",
     "output_type": "stream",
     "text": [
      "epoch:88 train_loss: 5.381674757003784 test_loss: 7.470015525817871\n",
      "epoch 88 R2:0.7953079845209376\n"
     ]
    },
    {
     "name": "stderr",
     "output_type": "stream",
     "text": [
      "epoch: 89 loss: 7.548549652099609: 100%|██████████| 25/25 [00:00<00:00, 75.67it/s] \n",
      "epoch: 90 loss: 3.8578953742980957:  56%|█████▌    | 14/25 [00:00<00:00, 76.87it/s]"
     ]
    },
    {
     "name": "stdout",
     "output_type": "stream",
     "text": [
      "epoch:89 train_loss: 4.844579801559449 test_loss: 7.984550476074219\n",
      "epoch 89 R2:0.7812088249124707\n"
     ]
    },
    {
     "name": "stderr",
     "output_type": "stream",
     "text": [
      "epoch: 90 loss: 6.597076416015625: 100%|██████████| 25/25 [00:00<00:00, 76.41it/s] \n",
      "epoch: 91 loss: 8.726421356201172:  44%|████▍     | 11/25 [00:00<00:00, 67.67it/s]"
     ]
    },
    {
     "name": "stdout",
     "output_type": "stream",
     "text": [
      "epoch:90 train_loss: 4.671989336013794 test_loss: 8.091282844543457\n",
      "epoch 90 R2:0.778284160221787\n"
     ]
    },
    {
     "name": "stderr",
     "output_type": "stream",
     "text": [
      "epoch: 91 loss: 5.795266151428223: 100%|██████████| 25/25 [00:00<00:00, 64.64it/s] \n",
      "epoch: 92 loss: 2.653219223022461:  48%|████▊     | 12/25 [00:00<00:00, 71.25it/s] "
     ]
    },
    {
     "name": "stdout",
     "output_type": "stream",
     "text": [
      "epoch:91 train_loss: 6.202788772583008 test_loss: 10.641963958740234\n",
      "epoch 91 R2:0.7083908019896599\n"
     ]
    },
    {
     "name": "stderr",
     "output_type": "stream",
     "text": [
      "epoch: 92 loss: 3.73858642578125: 100%|██████████| 25/25 [00:00<00:00, 69.00it/s]  \n",
      "epoch: 93 loss: 3.2035868167877197:  52%|█████▏    | 13/25 [00:00<00:00, 72.02it/s]"
     ]
    },
    {
     "name": "stdout",
     "output_type": "stream",
     "text": [
      "epoch:92 train_loss: 5.515357170104981 test_loss: 7.535914897918701\n",
      "epoch 92 R2:0.7935022605055848\n"
     ]
    },
    {
     "name": "stderr",
     "output_type": "stream",
     "text": [
      "epoch: 93 loss: 3.437546968460083: 100%|██████████| 25/25 [00:00<00:00, 70.71it/s] \n",
      "epoch: 94 loss: 2.8718156814575195:  40%|████      | 10/25 [00:00<00:00, 57.34it/s]"
     ]
    },
    {
     "name": "stdout",
     "output_type": "stream",
     "text": [
      "epoch:93 train_loss: 4.836410574913025 test_loss: 9.862714767456055\n",
      "epoch 93 R2:0.7297436924701122\n"
     ]
    },
    {
     "name": "stderr",
     "output_type": "stream",
     "text": [
      "epoch: 94 loss: 17.01161766052246: 100%|██████████| 25/25 [00:00<00:00, 65.34it/s] \n",
      "epoch: 95 loss: 9.427532196044922:  56%|█████▌    | 14/25 [00:00<00:00, 76.63it/s] "
     ]
    },
    {
     "name": "stdout",
     "output_type": "stream",
     "text": [
      "epoch:94 train_loss: 5.340151777267456 test_loss: 7.69898796081543\n",
      "epoch 94 R2:0.7890337255528925\n"
     ]
    },
    {
     "name": "stderr",
     "output_type": "stream",
     "text": [
      "epoch: 95 loss: 4.362452983856201: 100%|██████████| 25/25 [00:00<00:00, 66.98it/s] \n",
      "epoch: 96 loss: 3.6155214309692383:  52%|█████▏    | 13/25 [00:00<00:00, 76.01it/s]"
     ]
    },
    {
     "name": "stdout",
     "output_type": "stream",
     "text": [
      "epoch:95 train_loss: 6.234758281707764 test_loss: 8.026323318481445\n",
      "epoch 95 R2:0.7800641371098973\n"
     ]
    },
    {
     "name": "stderr",
     "output_type": "stream",
     "text": [
      "epoch: 96 loss: 1.7708916664123535: 100%|██████████| 25/25 [00:00<00:00, 65.95it/s]\n",
      "epoch: 97 loss: 5.097443103790283:  52%|█████▏    | 13/25 [00:00<00:00, 72.25it/s]"
     ]
    },
    {
     "name": "stdout",
     "output_type": "stream",
     "text": [
      "epoch:96 train_loss: 4.7550825500488285 test_loss: 8.429182052612305\n",
      "epoch 96 R2:0.7690250953940843\n"
     ]
    },
    {
     "name": "stderr",
     "output_type": "stream",
     "text": [
      "epoch: 97 loss: 7.289535045623779: 100%|██████████| 25/25 [00:00<00:00, 69.87it/s] \n",
      "epoch: 98 loss: 4.963142395019531:  52%|█████▏    | 13/25 [00:00<00:00, 73.10it/s]"
     ]
    },
    {
     "name": "stdout",
     "output_type": "stream",
     "text": [
      "epoch:97 train_loss: 4.2041479587554935 test_loss: 10.024319648742676\n",
      "epoch 97 R2:0.7253153980262228\n"
     ]
    },
    {
     "name": "stderr",
     "output_type": "stream",
     "text": [
      "epoch: 98 loss: 4.008519172668457: 100%|██████████| 25/25 [00:00<00:00, 71.17it/s] \n",
      "epoch: 99 loss: 1.6812775135040283:  48%|████▊     | 12/25 [00:00<00:00, 71.37it/s]"
     ]
    },
    {
     "name": "stdout",
     "output_type": "stream",
     "text": [
      "epoch:98 train_loss: 4.978115105628968 test_loss: 8.926911354064941\n",
      "epoch 98 R2:0.7553863788530929\n"
     ]
    },
    {
     "name": "stderr",
     "output_type": "stream",
     "text": [
      "epoch: 99 loss: 3.42156982421875: 100%|██████████| 25/25 [00:00<00:00, 70.11it/s]  "
     ]
    },
    {
     "name": "stdout",
     "output_type": "stream",
     "text": [
      "epoch:99 train_loss: 4.647229518890381 test_loss: 9.631781578063965\n",
      "epoch 99 R2:0.736071658597651\n"
     ]
    },
    {
     "name": "stderr",
     "output_type": "stream",
     "text": [
      "\n"
     ]
    }
   ],
   "source": [
    "network = GCNet(feature_graph=feature_graph, num_target=y_train.shape[1], neighbors=neighbors, fc_unit=fc_unit, channels=channels)\n",
    "optimizer = Adam()\n",
    "\n",
    "learning_curve = []\n",
    "test_curve = []\n",
    "\n",
    "for i in range(epochs):\n",
    "    N = X_train.shape[0]\n",
    "    perm = np.random.permutation(N)\n",
    "    loss = 0\n",
    "    bar = tqdm(range(N//batch_size))\n",
    "    for j in bar:\n",
    "        index = perm[j*batch_size:(j+1)*batch_size]\n",
    "        train_batch_x = X_train[index].reshape(-1, 1, X_train.shape[1], 1)\n",
    "        train_batch_y = y_train[index]\n",
    "\n",
    "        # Loss function\n",
    "        network.set_models(inference=False)\n",
    "        with network.train():\n",
    "            l = rm.mse(network(train_batch_x), train_batch_y)\n",
    "\n",
    "        # Back propagation\n",
    "        grad = l.grad()\n",
    "\n",
    "        # Update\n",
    "        grad.update(optimizer)\n",
    "        loss += l.as_ndarray()\n",
    "        bar.set_description(\"epoch: {} loss: {}\".format(i, l.as_ndarray()))\n",
    "        bar.update(1)\n",
    "        \n",
    "    train_loss = loss / (N//batch_size)\n",
    "    learning_curve.append(train_loss)\n",
    "\n",
    "    # Validation\n",
    "    network.set_models(inference=True)\n",
    "    N = X_test.shape[0]\n",
    "    \n",
    "    pred = network(X_test.reshape(-1, 1, X_test.shape[1], 1))\n",
    "    test_loss = rm.mse(pred, y_test)\n",
    "    test_curve.append(test_loss)\n",
    "    print(\"epoch:{} train_loss: {} test_loss: {}\".format(i, train_loss, test_loss))\n",
    "    print(\"epoch {} R2:{}\".format(i, r2_score(y_test, pred)))"
   ]
  },
  {
   "cell_type": "code",
   "execution_count": 6,
   "metadata": {},
   "outputs": [
    {
     "data": {
      "image/png": "[encoded data removed]",
      "text/plain": [
       "<Figure size 432x288 with 1 Axes>"
      ]
     },
     "metadata": {},
     "output_type": "display_data"
    }
   ],
   "source": [
    "# Learning curve.\n",
    "plt.plot(learning_curve, linewidth=3, label=\"train\")\n",
    "plt.plot(test_curve, linewidth=3, label=\"test\")\n",
    "plt.title(\"Learning curve\")\n",
    "plt.ylabel(\"error\")\n",
    "plt.xlabel(\"epoch\")\n",
    "plt.legend()\n",
    "plt.grid()\n",
    "plt.show()"
   ]
  }
 ],
 "metadata": {
  "kernelspec": {
   "display_name": "Python 3",
   "language": "python",
   "name": "python3"
  },
  "language_info": {
   "codemirror_mode": {
    "name": "ipython",
    "version": 3
   },
   "file_extension": ".py",
   "mimetype": "text/x-python",
   "name": "python",
   "nbconvert_exporter": "python",
   "pygments_lexer": "ipython3",
   "version": "3.6.1"
  }
 },
 "nbformat": 4,
 "nbformat_minor": 2
}
