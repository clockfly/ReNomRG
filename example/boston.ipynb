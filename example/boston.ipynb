{
 "cells": [
  {
   "cell_type": "code",
   "execution_count": 1,
   "metadata": {
    "collapsed": true
   },
   "outputs": [],
   "source": [
    "import numpy as np\n",
    "import matplotlib.pyplot as plt\n",
    "from sklearn.datasets import load_boston\n",
    "from sklearn.metrics import r2_score\n",
    "from sklearn.preprocessing import normalize\n",
    "from sklearn.model_selection import train_test_split\n",
    "from tqdm import tqdm\n",
    "\n",
    "import renom as rm\n",
    "from renom.optimizer import Adam\n",
    "\n",
    "from renom_rg.api.regression.gcnn import GCNet\n",
    "from renom_rg.api.utility.feature_graph import get_corr_graph, get_kernel_graph, get_dbscan_graph\n",
    "\n",
    "np.random.seed(1984)"
   ]
  },
  {
   "cell_type": "code",
   "execution_count": 2,
   "metadata": {
    "collapsed": true
   },
   "outputs": [],
   "source": [
    "batch_size = 16\n",
    "epochs = 100\n",
    "fc_unit = (100, 50)\n",
    "channels = (10, 20, 20)\n",
    "neighbors = 5\n",
    "gamma = 0.1"
   ]
  },
  {
   "cell_type": "code",
   "execution_count": 3,
   "metadata": {
    "collapsed": true
   },
   "outputs": [],
   "source": [
    "boston_data = load_boston()\n",
    "\n",
    "X = boston_data.data\n",
    "y = boston_data.target.reshape(-1, 1)\n",
    "\n",
    "X_train, X_test, y_train, y_test = train_test_split(X, y, test_size=0.2)"
   ]
  },
  {
   "cell_type": "code",
   "execution_count": 4,
   "metadata": {
    "collapsed": true
   },
   "outputs": [],
   "source": [
    "# feature_graph = get_corr_graph(X_train, neighbors)\n",
    "# feature_graph = get_kernel_graph(X_train, neighbors, gamma)\n",
    "feature_graph = get_dbscan_graph(X_train, neighbors)"
   ]
  },
  {
   "cell_type": "code",
   "execution_count": 5,
   "metadata": {
    "scrolled": true
   },
   "outputs": [
    {
     "name": "stderr",
     "output_type": "stream",
     "text": [
      "epoch: 0 loss: 12.70677375793457: 100%|██████████| 25/25 [00:00<00:00, 68.57it/s] \n",
      "epoch: 1 loss: 43.44557189941406:  48%|████▊     | 12/25 [00:00<00:00, 68.70it/s]"
     ]
    },
    {
     "name": "stdout",
     "output_type": "stream",
     "text": [
      "epoch:0 train_loss: 94.53899505615234 test_loss: 27.04543685913086\n",
      "epoch 0 R2:0.25890586120321946\n"
     ]
    },
    {
     "name": "stderr",
     "output_type": "stream",
     "text": [
      "epoch: 1 loss: 12.500007629394531: 100%|██████████| 25/25 [00:00<00:00, 64.79it/s]\n",
      "epoch: 2 loss: 13.226627349853516:  52%|█████▏    | 13/25 [00:00<00:00, 70.64it/s]"
     ]
    },
    {
     "name": "stdout",
     "output_type": "stream",
     "text": [
      "epoch:1 train_loss: 34.12525588989258 test_loss: 22.27334976196289\n",
      "epoch 1 R2:0.38966973488492596\n"
     ]
    },
    {
     "name": "stderr",
     "output_type": "stream",
     "text": [
      "epoch: 2 loss: 18.027080535888672: 100%|██████████| 25/25 [00:00<00:00, 65.84it/s]\n",
      "epoch: 3 loss: 6.283029556274414:  44%|████▍     | 11/25 [00:00<00:00, 58.70it/s] "
     ]
    },
    {
     "name": "stdout",
     "output_type": "stream",
     "text": [
      "epoch:2 train_loss: 28.277129650115967 test_loss: 16.114513397216797\n",
      "epoch 2 R2:0.5584330161085749\n"
     ]
    },
    {
     "name": "stderr",
     "output_type": "stream",
     "text": [
      "epoch: 3 loss: 5.542409420013428: 100%|██████████| 25/25 [00:00<00:00, 59.51it/s] \n",
      "epoch: 4 loss: 4.187381267547607:  48%|████▊     | 12/25 [00:00<00:00, 65.13it/s] "
     ]
    },
    {
     "name": "stdout",
     "output_type": "stream",
     "text": [
      "epoch:3 train_loss: 18.920757675170897 test_loss: 12.107988357543945\n",
      "epoch 3 R2:0.668219132340403\n"
     ]
    },
    {
     "name": "stderr",
     "output_type": "stream",
     "text": [
      "epoch: 4 loss: 10.908426284790039: 100%|██████████| 25/25 [00:00<00:00, 64.32it/s]\n",
      "epoch: 5 loss: 11.427068710327148:  44%|████▍     | 11/25 [00:00<00:00, 59.09it/s]"
     ]
    },
    {
     "name": "stdout",
     "output_type": "stream",
     "text": [
      "epoch:4 train_loss: 16.191974563598635 test_loss: 10.478751182556152\n",
      "epoch 4 R2:0.712863144045156\n"
     ]
    },
    {
     "name": "stderr",
     "output_type": "stream",
     "text": [
      "epoch: 5 loss: 18.47977066040039: 100%|██████████| 25/25 [00:00<00:00, 60.21it/s] \n",
      "epoch: 6 loss: 6.180157661437988:  48%|████▊     | 12/25 [00:00<00:00, 64.69it/s] "
     ]
    },
    {
     "name": "stdout",
     "output_type": "stream",
     "text": [
      "epoch:5 train_loss: 12.033384132385255 test_loss: 10.463835716247559\n",
      "epoch 5 R2:0.7132718804785028\n"
     ]
    },
    {
     "name": "stderr",
     "output_type": "stream",
     "text": [
      "epoch: 6 loss: 14.173787117004395: 100%|██████████| 25/25 [00:00<00:00, 64.58it/s]\n",
      "epoch: 7 loss: 8.006887435913086:  48%|████▊     | 12/25 [00:00<00:00, 68.15it/s]"
     ]
    },
    {
     "name": "stdout",
     "output_type": "stream",
     "text": [
      "epoch:6 train_loss: 14.264813251495362 test_loss: 9.506078720092773\n",
      "epoch 6 R2:0.7395161621040575\n"
     ]
    },
    {
     "name": "stderr",
     "output_type": "stream",
     "text": [
      "epoch: 7 loss: 8.276671409606934: 100%|██████████| 25/25 [00:00<00:00, 68.95it/s] \n",
      "epoch: 8 loss: 3.6897199153900146:  48%|████▊     | 12/25 [00:00<00:00, 68.85it/s]"
     ]
    },
    {
     "name": "stdout",
     "output_type": "stream",
     "text": [
      "epoch:7 train_loss: 10.576036128997803 test_loss: 9.583282470703125\n",
      "epoch 7 R2:0.7374006648093104\n"
     ]
    },
    {
     "name": "stderr",
     "output_type": "stream",
     "text": [
      "epoch: 8 loss: 6.950433731079102: 100%|██████████| 25/25 [00:00<00:00, 68.15it/s] \n",
      "epoch: 9 loss: 6.810890197753906:  52%|█████▏    | 13/25 [00:00<00:00, 71.62it/s] "
     ]
    },
    {
     "name": "stdout",
     "output_type": "stream",
     "text": [
      "epoch:8 train_loss: 9.711231937408447 test_loss: 9.272303581237793\n",
      "epoch 8 R2:0.7459220430682535\n"
     ]
    },
    {
     "name": "stderr",
     "output_type": "stream",
     "text": [
      "epoch: 9 loss: 7.094278335571289: 100%|██████████| 25/25 [00:00<00:00, 68.87it/s] \n",
      "epoch: 10 loss: 6.739588737487793:  52%|█████▏    | 13/25 [00:00<00:00, 70.70it/s] "
     ]
    },
    {
     "name": "stdout",
     "output_type": "stream",
     "text": [
      "epoch:9 train_loss: 9.202827625274658 test_loss: 9.328173637390137\n",
      "epoch 9 R2:0.7443911153267935\n"
     ]
    },
    {
     "name": "stderr",
     "output_type": "stream",
     "text": [
      "epoch: 10 loss: 10.134543418884277: 100%|██████████| 25/25 [00:00<00:00, 69.19it/s]\n",
      "epoch: 11 loss: 5.234095573425293:  52%|█████▏    | 13/25 [00:00<00:00, 71.25it/s]"
     ]
    },
    {
     "name": "stdout",
     "output_type": "stream",
     "text": [
      "epoch:10 train_loss: 10.868901090621948 test_loss: 10.43420124053955\n",
      "epoch 10 R2:0.714083936559959\n"
     ]
    },
    {
     "name": "stderr",
     "output_type": "stream",
     "text": [
      "epoch: 11 loss: 6.68022346496582: 100%|██████████| 25/25 [00:00<00:00, 69.14it/s]  \n",
      "epoch: 12 loss: 8.621431350708008:  48%|████▊     | 12/25 [00:00<00:00, 69.49it/s] "
     ]
    },
    {
     "name": "stdout",
     "output_type": "stream",
     "text": [
      "epoch:11 train_loss: 10.113051614761353 test_loss: 9.721037864685059\n",
      "epoch 11 R2:0.7336259141089969\n"
     ]
    },
    {
     "name": "stderr",
     "output_type": "stream",
     "text": [
      "epoch: 12 loss: 12.213546752929688: 100%|██████████| 25/25 [00:00<00:00, 68.04it/s]\n",
      "epoch: 13 loss: 6.947850227355957:  48%|████▊     | 12/25 [00:00<00:00, 70.61it/s]"
     ]
    },
    {
     "name": "stdout",
     "output_type": "stream",
     "text": [
      "epoch:12 train_loss: 9.148523759841918 test_loss: 10.591647148132324\n",
      "epoch 12 R2:0.7097695808696782\n"
     ]
    },
    {
     "name": "stderr",
     "output_type": "stream",
     "text": [
      "epoch: 13 loss: 3.5994873046875: 100%|██████████| 25/25 [00:00<00:00, 67.07it/s]   \n",
      "epoch: 14 loss: 13.351285934448242:  48%|████▊     | 12/25 [00:00<00:00, 66.30it/s]"
     ]
    },
    {
     "name": "stdout",
     "output_type": "stream",
     "text": [
      "epoch:13 train_loss: 9.17715591430664 test_loss: 9.43548583984375\n",
      "epoch 13 R2:0.741450559368364\n"
     ]
    },
    {
     "name": "stderr",
     "output_type": "stream",
     "text": [
      "epoch: 14 loss: 22.446077346801758: 100%|██████████| 25/25 [00:00<00:00, 65.72it/s]\n",
      "epoch: 15 loss: 10.61121654510498:  48%|████▊     | 12/25 [00:00<00:00, 70.82it/s] "
     ]
    },
    {
     "name": "stdout",
     "output_type": "stream",
     "text": [
      "epoch:14 train_loss: 8.55473991394043 test_loss: 9.51526165008545\n",
      "epoch 14 R2:0.7392645056586409\n"
     ]
    },
    {
     "name": "stderr",
     "output_type": "stream",
     "text": [
      "epoch: 15 loss: 14.34036922454834: 100%|██████████| 25/25 [00:00<00:00, 68.74it/s] \n",
      "epoch: 16 loss: 4.787276268005371:  48%|████▊     | 12/25 [00:00<00:00, 67.20it/s] "
     ]
    },
    {
     "name": "stdout",
     "output_type": "stream",
     "text": [
      "epoch:15 train_loss: 8.9219775390625 test_loss: 9.363045692443848\n",
      "epoch 15 R2:0.7434355384313218\n"
     ]
    },
    {
     "name": "stderr",
     "output_type": "stream",
     "text": [
      "epoch: 16 loss: 10.64640998840332: 100%|██████████| 25/25 [00:00<00:00, 69.67it/s] \n",
      "epoch: 17 loss: 5.141005039215088:  52%|█████▏    | 13/25 [00:00<00:00, 71.05it/s] "
     ]
    },
    {
     "name": "stdout",
     "output_type": "stream",
     "text": [
      "epoch:16 train_loss: 8.73701431274414 test_loss: 11.955965042114258\n",
      "epoch 16 R2:0.6723848641610997\n"
     ]
    },
    {
     "name": "stderr",
     "output_type": "stream",
     "text": [
      "epoch: 17 loss: 4.718656539916992: 100%|██████████| 25/25 [00:00<00:00, 69.10it/s] \n",
      "epoch: 18 loss: 5.211221694946289:  40%|████      | 10/25 [00:00<00:00, 63.19it/s]"
     ]
    },
    {
     "name": "stdout",
     "output_type": "stream",
     "text": [
      "epoch:17 train_loss: 8.777020950317382 test_loss: 10.23204517364502\n",
      "epoch 17 R2:0.7196233809984335\n"
     ]
    },
    {
     "name": "stderr",
     "output_type": "stream",
     "text": [
      "epoch: 18 loss: 13.330648422241211: 100%|██████████| 25/25 [00:00<00:00, 63.77it/s]\n",
      "epoch: 19 loss: 4.222689628601074:  52%|█████▏    | 13/25 [00:00<00:00, 70.74it/s] "
     ]
    },
    {
     "name": "stdout",
     "output_type": "stream",
     "text": [
      "epoch:18 train_loss: 7.598101711273193 test_loss: 8.418601989746094\n",
      "epoch 18 R2:0.7693150016675013\n"
     ]
    },
    {
     "name": "stderr",
     "output_type": "stream",
     "text": [
      "epoch: 19 loss: 11.152711868286133: 100%|██████████| 25/25 [00:00<00:00, 70.25it/s]\n",
      "epoch: 20 loss: 11.973586082458496:  48%|████▊     | 12/25 [00:00<00:00, 70.84it/s]"
     ]
    },
    {
     "name": "stdout",
     "output_type": "stream",
     "text": [
      "epoch:19 train_loss: 7.555452356338501 test_loss: 11.244534492492676\n",
      "epoch 19 R2:0.6918793299977255\n"
     ]
    },
    {
     "name": "stderr",
     "output_type": "stream",
     "text": [
      "epoch: 20 loss: 6.748434543609619: 100%|██████████| 25/25 [00:00<00:00, 67.74it/s] \n",
      "epoch: 21 loss: 12.2765531539917:  48%|████▊     | 12/25 [00:00<00:00, 68.94it/s] "
     ]
    },
    {
     "name": "stdout",
     "output_type": "stream",
     "text": [
      "epoch:20 train_loss: 7.431867837905884 test_loss: 11.83903980255127\n",
      "epoch 20 R2:0.6755887433950418\n"
     ]
    },
    {
     "name": "stderr",
     "output_type": "stream",
     "text": [
      "epoch: 21 loss: 9.32591438293457: 100%|██████████| 25/25 [00:00<00:00, 66.76it/s]  \n",
      "epoch: 22 loss: 8.759639739990234:  48%|████▊     | 12/25 [00:00<00:00, 66.92it/s]"
     ]
    },
    {
     "name": "stdout",
     "output_type": "stream",
     "text": [
      "epoch:21 train_loss: 8.081334991455078 test_loss: 11.052265167236328\n",
      "epoch 21 R2:0.6971478044767437\n"
     ]
    },
    {
     "name": "stderr",
     "output_type": "stream",
     "text": [
      "epoch: 22 loss: 6.137086868286133: 100%|██████████| 25/25 [00:00<00:00, 67.71it/s] \n",
      "epoch: 23 loss: 6.059267520904541:  48%|████▊     | 12/25 [00:00<00:00, 69.55it/s]"
     ]
    },
    {
     "name": "stdout",
     "output_type": "stream",
     "text": [
      "epoch:22 train_loss: 6.859370985031128 test_loss: 10.271027565002441\n",
      "epoch 22 R2:0.7185551910667566\n"
     ]
    },
    {
     "name": "stderr",
     "output_type": "stream",
     "text": [
      "epoch: 23 loss: 2.7356481552124023: 100%|██████████| 25/25 [00:00<00:00, 68.37it/s]\n",
      "epoch: 24 loss: 9.847818374633789:  48%|████▊     | 12/25 [00:00<00:00, 67.28it/s]"
     ]
    },
    {
     "name": "stdout",
     "output_type": "stream",
     "text": [
      "epoch:23 train_loss: 7.672237100601197 test_loss: 9.992502212524414\n",
      "epoch 23 R2:0.7261872442215792\n"
     ]
    },
    {
     "name": "stderr",
     "output_type": "stream",
     "text": [
      "epoch: 24 loss: 8.564440727233887: 100%|██████████| 25/25 [00:00<00:00, 65.60it/s] \n",
      "epoch: 25 loss: 3.960655689239502:  44%|████▍     | 11/25 [00:00<00:00, 61.19it/s] "
     ]
    },
    {
     "name": "stdout",
     "output_type": "stream",
     "text": [
      "epoch:24 train_loss: 6.588662643432617 test_loss: 11.636954307556152\n",
      "epoch 24 R2:0.6811262732858891\n"
     ]
    },
    {
     "name": "stderr",
     "output_type": "stream",
     "text": [
      "epoch: 25 loss: 7.954645156860352: 100%|██████████| 25/25 [00:00<00:00, 62.13it/s] \n",
      "epoch: 26 loss: 2.5469393730163574:  48%|████▊     | 12/25 [00:00<00:00, 68.14it/s]"
     ]
    },
    {
     "name": "stdout",
     "output_type": "stream",
     "text": [
      "epoch:25 train_loss: 7.311475472450256 test_loss: 11.281231880187988\n",
      "epoch 25 R2:0.6908736793218673\n"
     ]
    },
    {
     "name": "stderr",
     "output_type": "stream",
     "text": [
      "epoch: 26 loss: 9.747426986694336: 100%|██████████| 25/25 [00:00<00:00, 68.45it/s] \n",
      "epoch: 27 loss: 11.913904190063477:  48%|████▊     | 12/25 [00:00<00:00, 70.09it/s]"
     ]
    },
    {
     "name": "stdout",
     "output_type": "stream",
     "text": [
      "epoch:26 train_loss: 7.050693445205688 test_loss: 11.72367000579834\n",
      "epoch 26 R2:0.6787501269803069\n"
     ]
    },
    {
     "name": "stderr",
     "output_type": "stream",
     "text": [
      "epoch: 27 loss: 2.453232765197754: 100%|██████████| 25/25 [00:00<00:00, 67.15it/s] \n",
      "epoch: 28 loss: 2.7352406978607178:  48%|████▊     | 12/25 [00:00<00:00, 69.40it/s]"
     ]
    },
    {
     "name": "stdout",
     "output_type": "stream",
     "text": [
      "epoch:27 train_loss: 5.982931337356567 test_loss: 9.487241744995117\n",
      "epoch 27 R2:0.7400323158950313\n"
     ]
    },
    {
     "name": "stderr",
     "output_type": "stream",
     "text": [
      "epoch: 28 loss: 7.908303260803223: 100%|██████████| 25/25 [00:00<00:00, 68.32it/s] \n",
      "epoch: 29 loss: 10.780967712402344:  48%|████▊     | 12/25 [00:00<00:00, 68.42it/s]"
     ]
    },
    {
     "name": "stdout",
     "output_type": "stream",
     "text": [
      "epoch:28 train_loss: 6.966649732589722 test_loss: 11.10342025756836\n",
      "epoch 28 R2:0.6957461262905833\n"
     ]
    },
    {
     "name": "stderr",
     "output_type": "stream",
     "text": [
      "epoch: 29 loss: 7.6018595695495605: 100%|██████████| 25/25 [00:00<00:00, 68.60it/s]\n",
      "epoch: 30 loss: 5.127259254455566:  48%|████▊     | 12/25 [00:00<00:00, 67.61it/s]"
     ]
    },
    {
     "name": "stdout",
     "output_type": "stream",
     "text": [
      "epoch:29 train_loss: 6.575079135894775 test_loss: 9.2135591506958\n",
      "epoch 29 R2:0.7475317386482715\n"
     ]
    },
    {
     "name": "stderr",
     "output_type": "stream",
     "text": [
      "epoch: 30 loss: 2.36289381980896: 100%|██████████| 25/25 [00:00<00:00, 65.55it/s]  \n",
      "epoch: 31 loss: 7.881691932678223:  44%|████▍     | 11/25 [00:00<00:00, 62.19it/s] "
     ]
    },
    {
     "name": "stdout",
     "output_type": "stream",
     "text": [
      "epoch:30 train_loss: 6.344089422225952 test_loss: 10.455989837646484\n",
      "epoch 30 R2:0.7134868686919217\n"
     ]
    },
    {
     "name": "stderr",
     "output_type": "stream",
     "text": [
      "epoch: 31 loss: 5.151325702667236: 100%|██████████| 25/25 [00:00<00:00, 62.89it/s] \n",
      "epoch: 32 loss: 3.7891173362731934:  48%|████▊     | 12/25 [00:00<00:00, 65.26it/s]"
     ]
    },
    {
     "name": "stdout",
     "output_type": "stream",
     "text": [
      "epoch:31 train_loss: 6.2449207639694215 test_loss: 10.81399154663086\n",
      "epoch 31 R2:0.7036769971431565\n"
     ]
    },
    {
     "name": "stderr",
     "output_type": "stream",
     "text": [
      "epoch: 32 loss: 5.882535457611084: 100%|██████████| 25/25 [00:00<00:00, 58.68it/s] \n",
      "epoch: 33 loss: 5.190078258514404:  44%|████▍     | 11/25 [00:00<00:00, 61.71it/s] "
     ]
    },
    {
     "name": "stdout",
     "output_type": "stream",
     "text": [
      "epoch:32 train_loss: 6.355053291320801 test_loss: 11.617534637451172\n",
      "epoch 32 R2:0.6816584276505792\n"
     ]
    },
    {
     "name": "stderr",
     "output_type": "stream",
     "text": [
      "epoch: 33 loss: 2.3764383792877197: 100%|██████████| 25/25 [00:00<00:00, 59.33it/s]\n",
      "epoch: 34 loss: 4.711728096008301:  40%|████      | 10/25 [00:00<00:00, 52.63it/s]"
     ]
    },
    {
     "name": "stdout",
     "output_type": "stream",
     "text": [
      "epoch:33 train_loss: 6.463060693740845 test_loss: 10.264850616455078\n",
      "epoch 33 R2:0.718724433050861\n"
     ]
    },
    {
     "name": "stderr",
     "output_type": "stream",
     "text": [
      "epoch: 34 loss: 3.841806411743164: 100%|██████████| 25/25 [00:00<00:00, 60.36it/s] \n",
      "epoch: 35 loss: 3.486232280731201:  40%|████      | 10/25 [00:00<00:00, 65.19it/s]"
     ]
    },
    {
     "name": "stdout",
     "output_type": "stream",
     "text": [
      "epoch:34 train_loss: 7.3715047979354855 test_loss: 9.98691177368164\n",
      "epoch 34 R2:0.7263404985556374\n"
     ]
    },
    {
     "name": "stderr",
     "output_type": "stream",
     "text": [
      "epoch: 35 loss: 7.540098667144775: 100%|██████████| 25/25 [00:00<00:00, 61.48it/s] \n",
      "epoch: 36 loss: 13.089836120605469:  44%|████▍     | 11/25 [00:00<00:00, 63.08it/s]"
     ]
    },
    {
     "name": "stdout",
     "output_type": "stream",
     "text": [
      "epoch:35 train_loss: 7.677056822776795 test_loss: 13.274019241333008\n",
      "epoch 35 R2:0.6362677530723059\n"
     ]
    },
    {
     "name": "stderr",
     "output_type": "stream",
     "text": [
      "epoch: 36 loss: 6.0407843589782715: 100%|██████████| 25/25 [00:00<00:00, 59.62it/s]\n",
      "epoch: 37 loss: 4.975950717926025:  48%|████▊     | 12/25 [00:00<00:00, 65.20it/s] "
     ]
    },
    {
     "name": "stdout",
     "output_type": "stream",
     "text": [
      "epoch:36 train_loss: 7.3440132904052735 test_loss: 8.942625999450684\n",
      "epoch 36 R2:0.7549557997395779\n"
     ]
    },
    {
     "name": "stderr",
     "output_type": "stream",
     "text": [
      "epoch: 37 loss: 4.223326206207275: 100%|██████████| 25/25 [00:00<00:00, 64.43it/s] \n",
      "epoch: 38 loss: 5.887598037719727:  44%|████▍     | 11/25 [00:00<00:00, 63.79it/s] "
     ]
    },
    {
     "name": "stdout",
     "output_type": "stream",
     "text": [
      "epoch:37 train_loss: 5.872401847839355 test_loss: 7.957395076751709\n",
      "epoch 37 R2:0.7819529150736974\n"
     ]
    },
    {
     "name": "stderr",
     "output_type": "stream",
     "text": [
      "epoch: 38 loss: 2.5699477195739746: 100%|██████████| 25/25 [00:00<00:00, 59.83it/s]\n",
      "epoch: 39 loss: 2.897031307220459:  44%|████▍     | 11/25 [00:00<00:00, 65.02it/s] "
     ]
    },
    {
     "name": "stdout",
     "output_type": "stream",
     "text": [
      "epoch:38 train_loss: 5.305633039474487 test_loss: 10.973623275756836\n",
      "epoch 38 R2:0.699302752313868\n"
     ]
    },
    {
     "name": "stderr",
     "output_type": "stream",
     "text": [
      "epoch: 39 loss: 26.750537872314453: 100%|██████████| 25/25 [00:00<00:00, 63.50it/s]\n",
      "epoch: 40 loss: 6.114095687866211:  48%|████▊     | 12/25 [00:00<00:00, 68.73it/s] "
     ]
    },
    {
     "name": "stdout",
     "output_type": "stream",
     "text": [
      "epoch:39 train_loss: 6.043093185424805 test_loss: 9.608413696289062\n",
      "epoch 39 R2:0.7367120056247259\n"
     ]
    },
    {
     "name": "stderr",
     "output_type": "stream",
     "text": [
      "epoch: 40 loss: 8.012266159057617: 100%|██████████| 25/25 [00:00<00:00, 67.16it/s] \n",
      "epoch: 41 loss: 4.458423614501953:  48%|████▊     | 12/25 [00:00<00:00, 69.91it/s] "
     ]
    },
    {
     "name": "stdout",
     "output_type": "stream",
     "text": [
      "epoch:40 train_loss: 6.66854416847229 test_loss: 8.405707359313965\n",
      "epoch 40 R2:0.7696683347530815\n"
     ]
    },
    {
     "name": "stderr",
     "output_type": "stream",
     "text": [
      "epoch: 41 loss: 14.228836059570312: 100%|██████████| 25/25 [00:00<00:00, 66.95it/s]\n",
      "epoch: 42 loss: 4.037945747375488:  48%|████▊     | 12/25 [00:00<00:00, 69.03it/s] "
     ]
    },
    {
     "name": "stdout",
     "output_type": "stream",
     "text": [
      "epoch:41 train_loss: 6.358320608139038 test_loss: 9.970593452453613\n",
      "epoch 41 R2:0.7267876298325018\n"
     ]
    },
    {
     "name": "stderr",
     "output_type": "stream",
     "text": [
      "epoch: 42 loss: 4.171128273010254: 100%|██████████| 25/25 [00:00<00:00, 62.98it/s] \n",
      "epoch: 43 loss: 6.13102912902832:  44%|████▍     | 11/25 [00:00<00:00, 65.79it/s] "
     ]
    },
    {
     "name": "stdout",
     "output_type": "stream",
     "text": [
      "epoch:42 train_loss: 5.860832147598266 test_loss: 8.02443790435791\n",
      "epoch 42 R2:0.7801158278694862\n"
     ]
    },
    {
     "name": "stderr",
     "output_type": "stream",
     "text": [
      "epoch: 43 loss: 3.45689058303833: 100%|██████████| 25/25 [00:00<00:00, 62.24it/s]  \n",
      "epoch: 44 loss: 4.393975257873535:  44%|████▍     | 11/25 [00:00<00:00, 63.21it/s]"
     ]
    },
    {
     "name": "stdout",
     "output_type": "stream",
     "text": [
      "epoch:43 train_loss: 6.006646518707275 test_loss: 8.575109481811523\n",
      "epoch 43 R2:0.765026424775705\n"
     ]
    },
    {
     "name": "stderr",
     "output_type": "stream",
     "text": [
      "epoch: 44 loss: 3.285508155822754: 100%|██████████| 25/25 [00:00<00:00, 60.82it/s] \n",
      "epoch: 45 loss: 5.408518314361572:  44%|████▍     | 11/25 [00:00<00:00, 60.60it/s] "
     ]
    },
    {
     "name": "stdout",
     "output_type": "stream",
     "text": [
      "epoch:44 train_loss: 6.023593254089356 test_loss: 11.93893051147461\n",
      "epoch 44 R2:0.672851608023854\n"
     ]
    },
    {
     "name": "stderr",
     "output_type": "stream",
     "text": [
      "epoch: 45 loss: 5.198576927185059: 100%|██████████| 25/25 [00:00<00:00, 60.42it/s] \n",
      "epoch: 46 loss: 6.174455165863037:  44%|████▍     | 11/25 [00:00<00:00, 60.33it/s]"
     ]
    },
    {
     "name": "stdout",
     "output_type": "stream",
     "text": [
      "epoch:45 train_loss: 5.336779341697693 test_loss: 9.822012901306152\n",
      "epoch 45 R2:0.7308589900813945\n"
     ]
    },
    {
     "name": "stderr",
     "output_type": "stream",
     "text": [
      "epoch: 46 loss: 6.8632426261901855: 100%|██████████| 25/25 [00:00<00:00, 63.07it/s]\n",
      "epoch: 47 loss: 8.444389343261719:  40%|████      | 10/25 [00:00<00:00, 59.40it/s]"
     ]
    },
    {
     "name": "stdout",
     "output_type": "stream",
     "text": [
      "epoch:46 train_loss: 5.938579897880555 test_loss: 10.050195693969727\n",
      "epoch 46 R2:0.724606328401889\n"
     ]
    },
    {
     "name": "stderr",
     "output_type": "stream",
     "text": [
      "epoch: 47 loss: 4.35750150680542: 100%|██████████| 25/25 [00:00<00:00, 61.14it/s]  \n",
      "epoch: 48 loss: 2.6241812705993652:  40%|████      | 10/25 [00:00<00:00, 60.76it/s]"
     ]
    },
    {
     "name": "stdout",
     "output_type": "stream",
     "text": [
      "epoch:47 train_loss: 5.7742085361480715 test_loss: 11.252264022827148\n",
      "epoch 47 R2:0.6916674614305577\n"
     ]
    },
    {
     "name": "stderr",
     "output_type": "stream",
     "text": [
      "epoch: 48 loss: 3.9026618003845215: 100%|██████████| 25/25 [00:00<00:00, 51.21it/s]\n",
      "epoch: 49 loss: 4.756389617919922:  40%|████      | 10/25 [00:00<00:00, 58.29it/s]"
     ]
    },
    {
     "name": "stdout",
     "output_type": "stream",
     "text": [
      "epoch:48 train_loss: 5.436877374649048 test_loss: 12.107024192810059\n",
      "epoch 48 R2:0.6682455331731898\n"
     ]
    },
    {
     "name": "stderr",
     "output_type": "stream",
     "text": [
      "epoch: 49 loss: 15.30831527709961: 100%|██████████| 25/25 [00:00<00:00, 62.77it/s] \n",
      "epoch: 50 loss: 5.002699375152588:  48%|████▊     | 12/25 [00:00<00:00, 69.12it/s] "
     ]
    },
    {
     "name": "stdout",
     "output_type": "stream",
     "text": [
      "epoch:49 train_loss: 5.970961608886719 test_loss: 9.727563858032227\n",
      "epoch 49 R2:0.7334470831329325\n"
     ]
    },
    {
     "name": "stderr",
     "output_type": "stream",
     "text": [
      "epoch: 50 loss: 3.730886697769165: 100%|██████████| 25/25 [00:00<00:00, 61.19it/s] \n",
      "epoch: 51 loss: 7.237242698669434:  52%|█████▏    | 13/25 [00:00<00:00, 71.76it/s] "
     ]
    },
    {
     "name": "stdout",
     "output_type": "stream",
     "text": [
      "epoch:50 train_loss: 4.538886647224427 test_loss: 8.447518348693848\n",
      "epoch 50 R2:0.7685226397211448\n"
     ]
    },
    {
     "name": "stderr",
     "output_type": "stream",
     "text": [
      "epoch: 51 loss: 3.7044386863708496: 100%|██████████| 25/25 [00:00<00:00, 72.45it/s]\n",
      "epoch: 52 loss: 4.643120765686035:  52%|█████▏    | 13/25 [00:00<00:00, 73.94it/s] "
     ]
    },
    {
     "name": "stdout",
     "output_type": "stream",
     "text": [
      "epoch:51 train_loss: 4.880711526870727 test_loss: 8.684337615966797\n",
      "epoch 51 R2:0.7620333795342666\n"
     ]
    },
    {
     "name": "stderr",
     "output_type": "stream",
     "text": [
      "epoch: 52 loss: 2.3891522884368896: 100%|██████████| 25/25 [00:00<00:00, 73.16it/s]\n",
      "epoch: 53 loss: 4.864965438842773:  56%|█████▌    | 14/25 [00:00<00:00, 75.16it/s] "
     ]
    },
    {
     "name": "stdout",
     "output_type": "stream",
     "text": [
      "epoch:52 train_loss: 5.125003724098206 test_loss: 9.41551399230957\n",
      "epoch 52 R2:0.7419978125608513\n"
     ]
    },
    {
     "name": "stderr",
     "output_type": "stream",
     "text": [
      "epoch: 53 loss: 3.164964437484741: 100%|██████████| 25/25 [00:00<00:00, 74.17it/s] \n",
      "epoch: 54 loss: 2.822800397872925:  56%|█████▌    | 14/25 [00:00<00:00, 75.73it/s] "
     ]
    },
    {
     "name": "stdout",
     "output_type": "stream",
     "text": [
      "epoch:53 train_loss: 4.501489453315735 test_loss: 9.024968147277832\n",
      "epoch 53 R2:0.7526994577799672\n"
     ]
    },
    {
     "name": "stderr",
     "output_type": "stream",
     "text": [
      "epoch: 54 loss: 2.4127068519592285: 100%|██████████| 25/25 [00:00<00:00, 75.30it/s]\n",
      "epoch: 55 loss: 6.349444389343262:  44%|████▍     | 11/25 [00:00<00:00, 71.86it/s]"
     ]
    },
    {
     "name": "stdout",
     "output_type": "stream",
     "text": [
      "epoch:54 train_loss: 5.052263193130493 test_loss: 9.505834579467773\n",
      "epoch 54 R2:0.7395228623720058\n"
     ]
    },
    {
     "name": "stderr",
     "output_type": "stream",
     "text": [
      "epoch: 55 loss: 1.9289817810058594: 100%|██████████| 25/25 [00:00<00:00, 53.65it/s]\n",
      "epoch: 56 loss: 2.381218671798706:  40%|████      | 10/25 [00:00<00:00, 58.70it/s]"
     ]
    },
    {
     "name": "stdout",
     "output_type": "stream",
     "text": [
      "epoch:55 train_loss: 4.93547194480896 test_loss: 7.344461917877197\n",
      "epoch 55 R2:0.7987483934378106\n"
     ]
    },
    {
     "name": "stderr",
     "output_type": "stream",
     "text": [
      "epoch: 56 loss: 6.666104793548584: 100%|██████████| 25/25 [00:00<00:00, 59.29it/s] \n",
      "epoch: 57 loss: 3.839268207550049:  44%|████▍     | 11/25 [00:00<00:00, 59.75it/s] "
     ]
    },
    {
     "name": "stdout",
     "output_type": "stream",
     "text": [
      "epoch:56 train_loss: 5.284813108444214 test_loss: 9.75344181060791\n",
      "epoch 56 R2:0.7327379879340727\n"
     ]
    },
    {
     "name": "stderr",
     "output_type": "stream",
     "text": [
      "epoch: 57 loss: 17.878524780273438: 100%|██████████| 25/25 [00:00<00:00, 60.74it/s]\n",
      "epoch: 58 loss: 3.8377788066864014:  44%|████▍     | 11/25 [00:00<00:00, 64.60it/s]"
     ]
    },
    {
     "name": "stdout",
     "output_type": "stream",
     "text": [
      "epoch:57 train_loss: 5.644457025527954 test_loss: 7.2724928855896\n",
      "epoch 57 R2:0.8007204698881464\n"
     ]
    },
    {
     "name": "stderr",
     "output_type": "stream",
     "text": [
      "epoch: 58 loss: 8.313323974609375: 100%|██████████| 25/25 [00:00<00:00, 64.93it/s] \n",
      "epoch: 59 loss: 2.0449583530426025:  48%|████▊     | 12/25 [00:00<00:00, 66.19it/s]"
     ]
    },
    {
     "name": "stdout",
     "output_type": "stream",
     "text": [
      "epoch:58 train_loss: 5.067898135185242 test_loss: 9.940160751342773\n",
      "epoch 58 R2:0.727621520112625\n"
     ]
    },
    {
     "name": "stderr",
     "output_type": "stream",
     "text": [
      "epoch: 59 loss: 7.373868465423584: 100%|██████████| 25/25 [00:00<00:00, 65.70it/s] \n",
      "epoch: 60 loss: 6.063080787658691:  48%|████▊     | 12/25 [00:00<00:00, 67.35it/s] "
     ]
    },
    {
     "name": "stdout",
     "output_type": "stream",
     "text": [
      "epoch:59 train_loss: 4.9054230690002445 test_loss: 9.633414268493652\n",
      "epoch 59 R2:0.7360269524065232\n"
     ]
    },
    {
     "name": "stderr",
     "output_type": "stream",
     "text": [
      "epoch: 60 loss: 4.649909019470215: 100%|██████████| 25/25 [00:00<00:00, 66.13it/s] \n",
      "epoch: 61 loss: 4.247404098510742:  48%|████▊     | 12/25 [00:00<00:00, 67.99it/s]"
     ]
    },
    {
     "name": "stdout",
     "output_type": "stream",
     "text": [
      "epoch:60 train_loss: 5.788884372711181 test_loss: 9.297706604003906\n",
      "epoch 60 R2:0.7452259569353137\n"
     ]
    },
    {
     "name": "stderr",
     "output_type": "stream",
     "text": [
      "epoch: 61 loss: 3.6773018836975098: 100%|██████████| 25/25 [00:00<00:00, 66.00it/s]\n",
      "epoch: 62 loss: 4.459744453430176:  48%|████▊     | 12/25 [00:00<00:00, 65.44it/s]"
     ]
    },
    {
     "name": "stdout",
     "output_type": "stream",
     "text": [
      "epoch:61 train_loss: 4.882925839424133 test_loss: 8.448725700378418\n",
      "epoch 61 R2:0.7684895770008222\n"
     ]
    },
    {
     "name": "stderr",
     "output_type": "stream",
     "text": [
      "epoch: 62 loss: 3.6619231700897217: 100%|██████████| 25/25 [00:00<00:00, 64.10it/s]\n",
      "epoch: 63 loss: 3.3328514099121094:  48%|████▊     | 12/25 [00:00<00:00, 67.89it/s]"
     ]
    },
    {
     "name": "stdout",
     "output_type": "stream",
     "text": [
      "epoch:62 train_loss: 5.0581425762176515 test_loss: 9.520912170410156\n",
      "epoch 62 R2:0.7391096874736235\n"
     ]
    },
    {
     "name": "stderr",
     "output_type": "stream",
     "text": [
      "epoch: 63 loss: 4.739818572998047: 100%|██████████| 25/25 [00:00<00:00, 58.56it/s] \n",
      "epoch: 64 loss: 5.28955602645874:  48%|████▊     | 12/25 [00:00<00:00, 63.61it/s]  "
     ]
    },
    {
     "name": "stdout",
     "output_type": "stream",
     "text": [
      "epoch:63 train_loss: 4.364091358184814 test_loss: 8.352497100830078\n",
      "epoch 63 R2:0.7711263837669097\n"
     ]
    },
    {
     "name": "stderr",
     "output_type": "stream",
     "text": [
      "epoch: 64 loss: 5.219145774841309: 100%|██████████| 25/25 [00:00<00:00, 65.39it/s] \n",
      "epoch: 65 loss: 5.215691566467285:  48%|████▊     | 12/25 [00:00<00:00, 67.64it/s] "
     ]
    },
    {
     "name": "stdout",
     "output_type": "stream",
     "text": [
      "epoch:64 train_loss: 5.126400032043457 test_loss: 9.645156860351562\n",
      "epoch 64 R2:0.7357051740044592\n"
     ]
    },
    {
     "name": "stderr",
     "output_type": "stream",
     "text": [
      "epoch: 65 loss: 2.7713887691497803: 100%|██████████| 25/25 [00:00<00:00, 65.85it/s]\n",
      "epoch: 66 loss: 5.146793365478516:  48%|████▊     | 12/25 [00:00<00:00, 68.38it/s]"
     ]
    },
    {
     "name": "stdout",
     "output_type": "stream",
     "text": [
      "epoch:65 train_loss: 5.1567206287384035 test_loss: 7.530951976776123\n",
      "epoch 65 R2:0.7936382529597115\n"
     ]
    },
    {
     "name": "stderr",
     "output_type": "stream",
     "text": [
      "epoch: 66 loss: 5.261406421661377: 100%|██████████| 25/25 [00:00<00:00, 66.33it/s] \n",
      "epoch: 67 loss: 3.5380609035491943:  48%|████▊     | 12/25 [00:00<00:00, 68.19it/s]"
     ]
    },
    {
     "name": "stdout",
     "output_type": "stream",
     "text": [
      "epoch:66 train_loss: 4.727604167461395 test_loss: 8.703082084655762\n",
      "epoch 66 R2:0.7615197356277177\n"
     ]
    },
    {
     "name": "stderr",
     "output_type": "stream",
     "text": [
      "epoch: 67 loss: 4.272504806518555: 100%|██████████| 25/25 [00:00<00:00, 65.74it/s] \n",
      "epoch: 68 loss: 3.8360354900360107:  48%|████▊     | 12/25 [00:00<00:00, 65.53it/s]"
     ]
    },
    {
     "name": "stdout",
     "output_type": "stream",
     "text": [
      "epoch:67 train_loss: 4.137969799041748 test_loss: 7.935204982757568\n",
      "epoch 67 R2:0.7825609702311747\n"
     ]
    },
    {
     "name": "stderr",
     "output_type": "stream",
     "text": [
      "epoch: 68 loss: 3.894965887069702: 100%|██████████| 25/25 [00:00<00:00, 65.69it/s] \n",
      "epoch: 69 loss: 3.4512007236480713:  48%|████▊     | 12/25 [00:00<00:00, 65.51it/s]"
     ]
    },
    {
     "name": "stdout",
     "output_type": "stream",
     "text": [
      "epoch:68 train_loss: 4.276676449775696 test_loss: 6.511695384979248\n",
      "epoch 68 R2:0.8215677106461229\n"
     ]
    },
    {
     "name": "stderr",
     "output_type": "stream",
     "text": [
      "epoch: 69 loss: 11.364428520202637: 100%|██████████| 25/25 [00:00<00:00, 65.38it/s]\n",
      "epoch: 70 loss: 7.512424945831299:  48%|████▊     | 12/25 [00:00<00:00, 67.16it/s]"
     ]
    },
    {
     "name": "stdout",
     "output_type": "stream",
     "text": [
      "epoch:69 train_loss: 6.070770263671875 test_loss: 9.572772026062012\n",
      "epoch 69 R2:0.7376886363214967\n"
     ]
    },
    {
     "name": "stderr",
     "output_type": "stream",
     "text": [
      "epoch: 70 loss: 2.6852433681488037: 100%|██████████| 25/25 [00:00<00:00, 65.78it/s]\n",
      "epoch: 71 loss: 6.401569843292236:  44%|████▍     | 11/25 [00:00<00:00, 55.48it/s]"
     ]
    },
    {
     "name": "stdout",
     "output_type": "stream",
     "text": [
      "epoch:70 train_loss: 5.191827001571656 test_loss: 8.502551078796387\n",
      "epoch 70 R2:0.7670146511728683\n"
     ]
    },
    {
     "name": "stderr",
     "output_type": "stream",
     "text": [
      "epoch: 71 loss: 1.6492931842803955: 100%|██████████| 25/25 [00:00<00:00, 62.76it/s]\n",
      "epoch: 72 loss: 3.96304988861084:  48%|████▊     | 12/25 [00:00<00:00, 66.89it/s]  "
     ]
    },
    {
     "name": "stdout",
     "output_type": "stream",
     "text": [
      "epoch:71 train_loss: 4.749740905761719 test_loss: 6.493863582611084\n",
      "epoch 71 R2:0.8220563174932937\n"
     ]
    },
    {
     "name": "stderr",
     "output_type": "stream",
     "text": [
      "epoch: 72 loss: 2.592916488647461: 100%|██████████| 25/25 [00:00<00:00, 65.46it/s] \n",
      "epoch: 73 loss: 3.4010813236236572:  48%|████▊     | 12/25 [00:00<00:00, 65.82it/s]"
     ]
    },
    {
     "name": "stdout",
     "output_type": "stream",
     "text": [
      "epoch:72 train_loss: 4.52126639842987 test_loss: 8.543708801269531\n",
      "epoch 72 R2:0.7658868627726152\n"
     ]
    },
    {
     "name": "stderr",
     "output_type": "stream",
     "text": [
      "epoch: 73 loss: 4.08120059967041: 100%|██████████| 25/25 [00:00<00:00, 65.63it/s]  \n",
      "epoch: 74 loss: 3.626668691635132:  44%|████▍     | 11/25 [00:00<00:00, 65.16it/s]"
     ]
    },
    {
     "name": "stdout",
     "output_type": "stream",
     "text": [
      "epoch:73 train_loss: 4.770923318862915 test_loss: 8.0250883102417\n",
      "epoch 73 R2:0.7800980113887961\n"
     ]
    },
    {
     "name": "stderr",
     "output_type": "stream",
     "text": [
      "epoch: 74 loss: 9.775246620178223: 100%|██████████| 25/25 [00:00<00:00, 65.61it/s] \n",
      "epoch: 75 loss: 2.995285749435425:  48%|████▊     | 12/25 [00:00<00:00, 65.01it/s]"
     ]
    },
    {
     "name": "stdout",
     "output_type": "stream",
     "text": [
      "epoch:74 train_loss: 5.1652614116668705 test_loss: 10.781532287597656\n",
      "epoch 74 R2:0.7045664193221539\n"
     ]
    },
    {
     "name": "stderr",
     "output_type": "stream",
     "text": [
      "epoch: 75 loss: 2.969707489013672: 100%|██████████| 25/25 [00:00<00:00, 65.19it/s] \n",
      "epoch: 76 loss: 5.681670665740967:  44%|████▍     | 11/25 [00:00<00:00, 64.96it/s]"
     ]
    },
    {
     "name": "stdout",
     "output_type": "stream",
     "text": [
      "epoch:75 train_loss: 5.028671236038208 test_loss: 9.033896446228027\n",
      "epoch 75 R2:0.7524548570352412\n"
     ]
    },
    {
     "name": "stderr",
     "output_type": "stream",
     "text": [
      "epoch: 76 loss: 6.941742420196533: 100%|██████████| 25/25 [00:00<00:00, 64.75it/s] \n",
      "epoch: 77 loss: 2.780874013900757:  44%|████▍     | 11/25 [00:00<00:00, 66.60it/s] "
     ]
    },
    {
     "name": "stdout",
     "output_type": "stream",
     "text": [
      "epoch:76 train_loss: 4.444488430023194 test_loss: 6.935039043426514\n",
      "epoch 76 R2:0.8099673368933678\n"
     ]
    },
    {
     "name": "stderr",
     "output_type": "stream",
     "text": [
      "epoch: 77 loss: 4.328936576843262: 100%|██████████| 25/25 [00:00<00:00, 60.81it/s] \n",
      "epoch: 78 loss: 3.9006693363189697:  48%|████▊     | 12/25 [00:00<00:00, 63.23it/s]"
     ]
    },
    {
     "name": "stdout",
     "output_type": "stream",
     "text": [
      "epoch:77 train_loss: 4.532547974586487 test_loss: 6.416309833526611\n",
      "epoch 77 R2:0.8241814288502822\n"
     ]
    },
    {
     "name": "stderr",
     "output_type": "stream",
     "text": [
      "epoch: 78 loss: 2.45692777633667: 100%|██████████| 25/25 [00:00<00:00, 60.69it/s]  \n",
      "epoch: 79 loss: 3.5576515197753906:  48%|████▊     | 12/25 [00:00<00:00, 64.41it/s]"
     ]
    },
    {
     "name": "stdout",
     "output_type": "stream",
     "text": [
      "epoch:78 train_loss: 4.216174974441528 test_loss: 7.576026916503906\n",
      "epoch 78 R2:0.7924031000240788\n"
     ]
    },
    {
     "name": "stderr",
     "output_type": "stream",
     "text": [
      "epoch: 79 loss: 4.005011558532715: 100%|██████████| 25/25 [00:00<00:00, 65.55it/s] \n",
      "epoch: 80 loss: 4.644181251525879:  48%|████▊     | 12/25 [00:00<00:00, 66.75it/s] "
     ]
    },
    {
     "name": "stdout",
     "output_type": "stream",
     "text": [
      "epoch:79 train_loss: 4.164245014190674 test_loss: 6.523825645446777\n",
      "epoch 79 R2:0.8212353273578287\n"
     ]
    },
    {
     "name": "stderr",
     "output_type": "stream",
     "text": [
      "epoch: 80 loss: 3.207404851913452: 100%|██████████| 25/25 [00:00<00:00, 63.50it/s] \n",
      "epoch: 81 loss: 3.579960346221924:  44%|████▍     | 11/25 [00:00<00:00, 62.93it/s] "
     ]
    },
    {
     "name": "stdout",
     "output_type": "stream",
     "text": [
      "epoch:80 train_loss: 4.253937644958496 test_loss: 9.324179649353027\n",
      "epoch 80 R2:0.7445005180072273\n"
     ]
    },
    {
     "name": "stderr",
     "output_type": "stream",
     "text": [
      "epoch: 81 loss: 5.640583038330078: 100%|██████████| 25/25 [00:00<00:00, 60.61it/s] \n",
      "epoch: 82 loss: 1.8711942434310913:  40%|████      | 10/25 [00:00<00:00, 54.48it/s]"
     ]
    },
    {
     "name": "stdout",
     "output_type": "stream",
     "text": [
      "epoch:81 train_loss: 4.7513030242919925 test_loss: 8.624735832214355\n",
      "epoch 81 R2:0.7636665596547083\n"
     ]
    },
    {
     "name": "stderr",
     "output_type": "stream",
     "text": [
      "epoch: 82 loss: 1.0083696842193604: 100%|██████████| 25/25 [00:00<00:00, 59.41it/s]\n",
      "epoch: 83 loss: 2.1952290534973145:  44%|████▍     | 11/25 [00:00<00:00, 64.26it/s]"
     ]
    },
    {
     "name": "stdout",
     "output_type": "stream",
     "text": [
      "epoch:82 train_loss: 3.98131076335907 test_loss: 8.651581764221191\n",
      "epoch 82 R2:0.7629309213351662\n"
     ]
    },
    {
     "name": "stderr",
     "output_type": "stream",
     "text": [
      "epoch: 83 loss: 2.5366382598876953: 100%|██████████| 25/25 [00:00<00:00, 61.88it/s]\n",
      "epoch: 84 loss: 2.957632064819336:  48%|████▊     | 12/25 [00:00<00:00, 67.13it/s]"
     ]
    },
    {
     "name": "stdout",
     "output_type": "stream",
     "text": [
      "epoch:83 train_loss: 4.0725572681427 test_loss: 6.743378162384033\n",
      "epoch 83 R2:0.8152191914868315\n"
     ]
    },
    {
     "name": "stderr",
     "output_type": "stream",
     "text": [
      "epoch: 84 loss: 5.904786109924316: 100%|██████████| 25/25 [00:00<00:00, 66.04it/s] \n",
      "epoch: 85 loss: 2.528261661529541:  48%|████▊     | 12/25 [00:00<00:00, 65.98it/s] "
     ]
    },
    {
     "name": "stdout",
     "output_type": "stream",
     "text": [
      "epoch:84 train_loss: 3.856985402107239 test_loss: 7.970259666442871\n",
      "epoch 84 R2:0.7816004104885649\n"
     ]
    },
    {
     "name": "stderr",
     "output_type": "stream",
     "text": [
      "epoch: 85 loss: 5.042035102844238: 100%|██████████| 25/25 [00:00<00:00, 64.04it/s] \n",
      "epoch: 86 loss: 4.626307010650635:  48%|████▊     | 12/25 [00:00<00:00, 67.79it/s] "
     ]
    },
    {
     "name": "stdout",
     "output_type": "stream",
     "text": [
      "epoch:85 train_loss: 3.8067881298065185 test_loss: 8.020936012268066\n",
      "epoch 85 R2:0.7802117905884646\n"
     ]
    },
    {
     "name": "stderr",
     "output_type": "stream",
     "text": [
      "epoch: 86 loss: 6.497692108154297: 100%|██████████| 25/25 [00:00<00:00, 64.49it/s] \n",
      "epoch: 87 loss: 3.2213995456695557:  44%|████▍     | 11/25 [00:00<00:00, 63.21it/s]"
     ]
    },
    {
     "name": "stdout",
     "output_type": "stream",
     "text": [
      "epoch:86 train_loss: 3.6825762128829957 test_loss: 8.292977333068848\n",
      "epoch 86 R2:0.7727573666488333\n"
     ]
    },
    {
     "name": "stderr",
     "output_type": "stream",
     "text": [
      "epoch: 87 loss: 3.7818689346313477: 100%|██████████| 25/25 [00:00<00:00, 61.15it/s]\n",
      "epoch: 88 loss: 5.14499044418335:  48%|████▊     | 12/25 [00:00<00:00, 65.21it/s]  "
     ]
    },
    {
     "name": "stdout",
     "output_type": "stream",
     "text": [
      "epoch:87 train_loss: 3.9087616920471193 test_loss: 8.926007270812988\n",
      "epoch 87 R2:0.7554111890418234\n"
     ]
    },
    {
     "name": "stderr",
     "output_type": "stream",
     "text": [
      "epoch: 88 loss: 2.9980227947235107: 100%|██████████| 25/25 [00:00<00:00, 65.50it/s]\n",
      "epoch: 89 loss: 3.4755749702453613:  48%|████▊     | 12/25 [00:00<00:00, 64.95it/s]"
     ]
    },
    {
     "name": "stdout",
     "output_type": "stream",
     "text": [
      "epoch:88 train_loss: 4.215837020874023 test_loss: 6.090689659118652\n",
      "epoch 88 R2:0.8331040193800013\n"
     ]
    },
    {
     "name": "stderr",
     "output_type": "stream",
     "text": [
      "epoch: 89 loss: 8.544540405273438: 100%|██████████| 25/25 [00:00<00:00, 65.26it/s] \n",
      "epoch: 90 loss: 2.305109977722168:  44%|████▍     | 11/25 [00:00<00:00, 64.77it/s] "
     ]
    },
    {
     "name": "stdout",
     "output_type": "stream",
     "text": [
      "epoch:89 train_loss: 4.051049928665162 test_loss: 6.746284008026123\n",
      "epoch 89 R2:0.8151395520924403\n"
     ]
    },
    {
     "name": "stderr",
     "output_type": "stream",
     "text": [
      "epoch: 90 loss: 5.590890884399414: 100%|██████████| 25/25 [00:00<00:00, 62.76it/s] \n",
      "epoch: 91 loss: 7.156847953796387:  44%|████▍     | 11/25 [00:00<00:00, 63.08it/s]"
     ]
    },
    {
     "name": "stdout",
     "output_type": "stream",
     "text": [
      "epoch:90 train_loss: 3.843043465614319 test_loss: 6.712209224700928\n",
      "epoch 90 R2:0.8160732867161691\n"
     ]
    },
    {
     "name": "stderr",
     "output_type": "stream",
     "text": [
      "epoch: 91 loss: 3.7635254859924316: 100%|██████████| 25/25 [00:00<00:00, 59.62it/s]\n",
      "epoch: 92 loss: 4.78337287902832:  44%|████▍     | 11/25 [00:00<00:00, 62.57it/s] "
     ]
    },
    {
     "name": "stdout",
     "output_type": "stream",
     "text": [
      "epoch:91 train_loss: 4.845198173522949 test_loss: 6.965920925140381\n",
      "epoch 91 R2:0.8091211248365747\n"
     ]
    },
    {
     "name": "stderr",
     "output_type": "stream",
     "text": [
      "epoch: 92 loss: 1.949084758758545: 100%|██████████| 25/25 [00:00<00:00, 63.89it/s] \n",
      "epoch: 93 loss: 2.08743953704834:  40%|████      | 10/25 [00:00<00:00, 64.51it/s] "
     ]
    },
    {
     "name": "stdout",
     "output_type": "stream",
     "text": [
      "epoch:92 train_loss: 4.331126384735107 test_loss: 6.412116050720215\n",
      "epoch 92 R2:0.8242963745999841\n"
     ]
    },
    {
     "name": "stderr",
     "output_type": "stream",
     "text": [
      "epoch: 93 loss: 3.325018882751465: 100%|██████████| 25/25 [00:00<00:00, 56.41it/s] \n",
      "epoch: 94 loss: 4.888843536376953:  44%|████▍     | 11/25 [00:00<00:00, 60.11it/s] "
     ]
    },
    {
     "name": "stdout",
     "output_type": "stream",
     "text": [
      "epoch:93 train_loss: 3.7767120599746704 test_loss: 6.549198150634766\n",
      "epoch 93 R2:0.8205400844193387\n"
     ]
    },
    {
     "name": "stderr",
     "output_type": "stream",
     "text": [
      "epoch: 94 loss: 5.403308868408203: 100%|██████████| 25/25 [00:00<00:00, 60.17it/s] \n",
      "epoch: 95 loss: 2.0327072143554688:  48%|████▊     | 12/25 [00:00<00:00, 65.52it/s]"
     ]
    },
    {
     "name": "stdout",
     "output_type": "stream",
     "text": [
      "epoch:94 train_loss: 3.88444571018219 test_loss: 7.007735252380371\n",
      "epoch 94 R2:0.8079753107324321\n"
     ]
    },
    {
     "name": "stderr",
     "output_type": "stream",
     "text": [
      "epoch: 95 loss: 4.610716342926025: 100%|██████████| 25/25 [00:00<00:00, 64.51it/s] \n",
      "epoch: 96 loss: 4.402754783630371:  40%|████      | 10/25 [00:00<00:00, 61.86it/s]"
     ]
    },
    {
     "name": "stdout",
     "output_type": "stream",
     "text": [
      "epoch:95 train_loss: 4.288653616905212 test_loss: 7.679313659667969\n",
      "epoch 95 R2:0.7895728521591203\n"
     ]
    },
    {
     "name": "stderr",
     "output_type": "stream",
     "text": [
      "epoch: 96 loss: 2.0482170581817627: 100%|██████████| 25/25 [00:00<00:00, 58.12it/s]\n",
      "epoch: 97 loss: 2.510866403579712:  44%|████▍     | 11/25 [00:00<00:00, 58.24it/s] "
     ]
    },
    {
     "name": "stdout",
     "output_type": "stream",
     "text": [
      "epoch:96 train_loss: 3.841830196380615 test_loss: 6.599560260772705\n",
      "epoch 96 R2:0.8191600717533823\n"
     ]
    },
    {
     "name": "stderr",
     "output_type": "stream",
     "text": [
      "epoch: 97 loss: 3.695159435272217: 100%|██████████| 25/25 [00:00<00:00, 59.63it/s] \n",
      "epoch: 98 loss: 3.576533317565918:  40%|████      | 10/25 [00:00<00:00, 57.60it/s]"
     ]
    },
    {
     "name": "stdout",
     "output_type": "stream",
     "text": [
      "epoch:97 train_loss: 3.4866698455810545 test_loss: 8.327149391174316\n",
      "epoch 97 R2:0.7718209714970514\n"
     ]
    },
    {
     "name": "stderr",
     "output_type": "stream",
     "text": [
      "epoch: 98 loss: 4.727155685424805: 100%|██████████| 25/25 [00:00<00:00, 55.98it/s] \n",
      "epoch: 99 loss: 2.9097931385040283:  36%|███▌      | 9/25 [00:00<00:00, 48.14it/s]"
     ]
    },
    {
     "name": "stdout",
     "output_type": "stream",
     "text": [
      "epoch:98 train_loss: 3.7795505714416504 test_loss: 6.704818248748779\n",
      "epoch 98 R2:0.8162758108681202\n"
     ]
    },
    {
     "name": "stderr",
     "output_type": "stream",
     "text": [
      "epoch: 99 loss: 2.372926712036133: 100%|██████████| 25/25 [00:00<00:00, 56.25it/s] "
     ]
    },
    {
     "name": "stdout",
     "output_type": "stream",
     "text": [
      "epoch:99 train_loss: 4.155116119384766 test_loss: 6.716757297515869\n",
      "epoch 99 R2:0.8159486231814732\n"
     ]
    },
    {
     "name": "stderr",
     "output_type": "stream",
     "text": [
      "\n"
     ]
    }
   ],
   "source": [
    "network = GCNet(feature_graph=feature_graph, num_target=y_train.shape[1], neighbors=neighbors, fc_unit=fc_unit, channels=channels)\n",
    "optimizer = Adam()\n",
    "\n",
    "learning_curve = []\n",
    "test_curve = []\n",
    "\n",
    "for i in range(epochs):\n",
    "    N = X_train.shape[0]\n",
    "    perm = np.random.permutation(N)\n",
    "    loss = 0\n",
    "    bar = tqdm(range(N//batch_size))\n",
    "    for j in bar:\n",
    "        index = perm[j*batch_size:(j+1)*batch_size]\n",
    "        train_batch_x = X_train[index].reshape(-1, 1, X_train.shape[1], 1)\n",
    "        train_batch_y = y_train[index]\n",
    "\n",
    "        # Loss function\n",
    "        network.set_models(inference=False)\n",
    "        with network.train():\n",
    "            l = rm.mse(network(train_batch_x), train_batch_y)\n",
    "\n",
    "        # Back propagation\n",
    "        grad = l.grad()\n",
    "\n",
    "        # Update\n",
    "        grad.update(optimizer)\n",
    "        loss += l.as_ndarray()\n",
    "        bar.set_description(\"epoch: {} loss: {}\".format(i, l.as_ndarray()))\n",
    "        bar.update(1)\n",
    "        \n",
    "    train_loss = loss / (N//batch_size)\n",
    "    learning_curve.append(train_loss)\n",
    "\n",
    "    # Validation\n",
    "    network.set_models(inference=True)\n",
    "    N = X_test.shape[0]\n",
    "    \n",
    "    pred = network(X_test.reshape(-1, 1, X_test.shape[1], 1))\n",
    "    test_loss = rm.mse(pred, y_test)\n",
    "    test_curve.append(test_loss)\n",
    "    print(\"epoch:{} train_loss: {} test_loss: {}\".format(i, train_loss, test_loss))\n",
    "    print(\"epoch {} R2:{}\".format(i, r2_score(y_test, pred)))"
   ]
  },
  {
   "cell_type": "code",
   "execution_count": 6,
   "metadata": {},
   "outputs": [
    {
     "data": {
      "image/png": "[encoded data removed]",
      "text/plain": [
       "<Figure size 432x288 with 1 Axes>"
      ]
     },
     "metadata": {},
     "output_type": "display_data"
    }
   ],
   "source": [
    "# Learning curve.\n",
    "plt.plot(learning_curve, linewidth=3, label=\"train\")\n",
    "plt.plot(test_curve, linewidth=3, label=\"test\")\n",
    "plt.title(\"Learning curve\")\n",
    "plt.ylabel(\"error\")\n",
    "plt.xlabel(\"epoch\")\n",
    "plt.legend()\n",
    "plt.grid()\n",
    "plt.show()"
   ]
  }
 ],
 "metadata": {
  "kernelspec": {
   "display_name": "Python 3",
   "language": "python",
   "name": "python3"
  },
  "language_info": {
   "codemirror_mode": {
    "name": "ipython",
    "version": 3
   },
   "file_extension": ".py",
   "mimetype": "text/x-python",
   "name": "python",
   "nbconvert_exporter": "python",
   "pygments_lexer": "ipython3",
   "version": "3.6.1"
  }
 },
 "nbformat": 4,
 "nbformat_minor": 2
}
