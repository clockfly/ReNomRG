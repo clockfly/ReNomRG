{
 "cells": [
  {
   "cell_type": "code",
   "execution_count": 1,
   "metadata": {
    "collapsed": true
   },
   "outputs": [],
   "source": [
    "import numpy as np\n",
    "import matplotlib.pyplot as plt\n",
    "from sklearn.datasets import load_boston\n",
    "from sklearn.metrics import r2_score\n",
    "from sklearn.preprocessing import normalize\n",
    "from sklearn.model_selection import train_test_split\n",
    "from sklearn.preprocessing import StandardScaler\n",
    "from tqdm import tqdm\n",
    "\n",
    "import renom as rm\n",
    "from renom.core import get_gpu\n",
    "from renom.optimizer import Adam\n",
    "from renom.cuda import set_cuda_active\n",
    "\n",
    "from renom_rg.api.regression.gcnn import GCNet\n",
    "from renom_rg.api.utility.feature_graph import get_corr_graph, get_kernel_graph, get_dbscan_graph\n",
    "\n",
    "set_cuda_active(False)\n",
    "np.random.seed(1984)"
   ]
  },
  {
   "cell_type": "code",
   "execution_count": 2,
   "metadata": {
    "collapsed": true
   },
   "outputs": [],
   "source": [
    "batch_size = 15\n",
    "epochs = 40\n",
    "fc_unit = 100\n",
    "channels = (5, 10)\n",
    "num_neighbors = 3\n",
    "gamma = 0.1"
   ]
  },
  {
   "cell_type": "code",
   "execution_count": 3,
   "metadata": {
    "collapsed": true
   },
   "outputs": [],
   "source": [
    "boston_data = load_boston()\n",
    "\n",
    "scaler = StandardScaler()\n",
    "boston_data_x = boston_data.data\n",
    "# boston_data_x = scaler.fit_transform(boston_data.data)\n",
    "\n",
    "scaler = StandardScaler()\n",
    "boston_data_y = boston_data.target.reshape(-1, 1)\n",
    "# boston_data_y = scaler.fit_transform(boston_data.target.reshape(-1, 1))\n",
    "\n",
    "X_train, X_test = np.array(train_test_split(boston_data_x, test_size = 0.3))\n",
    "y_train, y_test = np.array(train_test_split(boston_data_y, test_size = 0.3))\n",
    "y_train = y_train.reshape(-1, 1)\n",
    "y_test = y_test.reshape(-1, 1)\n",
    "\n",
    "X_train = (X_train / X_train.max(0))\n",
    "X_test = (X_test / X_test.max(0))"
   ]
  },
  {
   "cell_type": "code",
   "execution_count": 4,
   "metadata": {
    "collapsed": true
   },
   "outputs": [],
   "source": [
    "feature_graph = get_corr_graph(X_train, num_neighbors)\n",
    "# feature_graph = get_kernel_graph(X_train, num_neighbors, gamma)\n",
    "# feature_graph = get_dbscan_graph(X_train, num_neighbors)"
   ]
  },
  {
   "cell_type": "code",
   "execution_count": 5,
   "metadata": {
    "scrolled": true
   },
   "outputs": [
    {
     "name": "stderr",
     "output_type": "stream",
     "text": [
      "epoch: 0 loss: 232.8912811279297: 100%|██████████| 23/23 [00:00<00:00, 128.29it/s] \n",
      "epoch: 1 loss: 195.7566680908203: 100%|██████████| 23/23 [00:00<00:00, 128.34it/s] \n",
      "epoch: 2 loss: 186.82748413085938:   0%|          | 0/23 [00:00<?, ?it/s]"
     ]
    },
    {
     "name": "stdout",
     "output_type": "stream",
     "text": [
      "epoch:0 train_loss: 280.64160288935125 test_loss: 286.0478515625\n",
      "epoch 0 R2:-5.000671571864656\n",
      "epoch:1 train_loss: 228.68256875743037 test_loss: 191.1299591064453\n",
      "epoch 1 R2:-3.0094977124258726\n"
     ]
    },
    {
     "name": "stderr",
     "output_type": "stream",
     "text": [
      "epoch: 2 loss: 38.9778938293457: 100%|██████████| 23/23 [00:00<00:00, 82.44it/s]  \n",
      "epoch: 3 loss: 39.52004623413086:  91%|█████████▏| 21/23 [00:00<00:00, 104.41it/s] "
     ]
    },
    {
     "name": "stdout",
     "output_type": "stream",
     "text": [
      "epoch:2 train_loss: 106.49937140423319 test_loss: 53.18112564086914\n",
      "epoch 2 R2:-0.11562630531208784\n"
     ]
    },
    {
     "name": "stderr",
     "output_type": "stream",
     "text": [
      "epoch: 3 loss: 10.173386573791504: 100%|██████████| 23/23 [00:00<00:00, 113.65it/s]\n",
      "epoch: 4 loss: 32.855201721191406:  83%|████████▎ | 19/23 [00:00<00:00, 105.41it/s]"
     ]
    },
    {
     "name": "stdout",
     "output_type": "stream",
     "text": [
      "epoch:3 train_loss: 48.6308128108149 test_loss: 48.52216720581055\n",
      "epoch 3 R2:-0.01789122043871605\n"
     ]
    },
    {
     "name": "stderr",
     "output_type": "stream",
     "text": [
      "epoch: 4 loss: 45.281070709228516: 100%|██████████| 23/23 [00:00<00:00, 100.16it/s]\n",
      "epoch: 5 loss: 16.278783798217773: 100%|██████████| 23/23 [00:00<00:00, 118.06it/s]"
     ]
    },
    {
     "name": "stdout",
     "output_type": "stream",
     "text": [
      "epoch:4 train_loss: 44.84051633917767 test_loss: 48.707218170166016\n",
      "epoch 4 R2:-0.021773309023451093\n"
     ]
    },
    {
     "name": "stderr",
     "output_type": "stream",
     "text": [
      "\n",
      "epoch: 6 loss: 86.00486755371094: 100%|██████████| 23/23 [00:00<00:00, 137.76it/s] \n",
      "epoch: 7 loss: 62.08918762207031:   9%|▊         | 2/23 [00:00<00:00, 94.95it/s] "
     ]
    },
    {
     "name": "stdout",
     "output_type": "stream",
     "text": [
      "epoch:5 train_loss: 45.152597012727156 test_loss: 48.18781661987305\n",
      "epoch 5 R2:-0.010877310389996175\n",
      "epoch:6 train_loss: 41.76972638005795 test_loss: 47.949825286865234\n",
      "epoch 6 R2:-0.005884747206994945\n"
     ]
    },
    {
     "name": "stderr",
     "output_type": "stream",
     "text": [
      "epoch: 7 loss: 36.45205307006836: 100%|██████████| 23/23 [00:00<00:00, 132.39it/s] \n",
      "epoch: 8 loss: 27.679981231689453: 100%|██████████| 23/23 [00:00<00:00, 123.71it/s]\n",
      "  0%|          | 0/23 [00:00<?, ?it/s]"
     ]
    },
    {
     "name": "stdout",
     "output_type": "stream",
     "text": [
      "epoch:7 train_loss: 42.65979675624681 test_loss: 48.25782012939453\n",
      "epoch 7 R2:-0.012345822050501054\n",
      "epoch:8 train_loss: 41.5605121695477 test_loss: 48.12685775756836\n",
      "epoch 8 R2:-0.0095984567729952\n"
     ]
    },
    {
     "name": "stderr",
     "output_type": "stream",
     "text": [
      "epoch: 9 loss: 34.94963836669922: 100%|██████████| 23/23 [00:00<00:00, 140.98it/s] \n",
      "epoch: 10 loss: 18.628602981567383: 100%|██████████| 23/23 [00:00<00:00, 123.19it/s]\n",
      "  0%|          | 0/23 [00:00<?, ?it/s]"
     ]
    },
    {
     "name": "stdout",
     "output_type": "stream",
     "text": [
      "epoch:9 train_loss: 40.60788527778957 test_loss: 48.49269485473633\n",
      "epoch 9 R2:-0.01727293790670026\n",
      "epoch:10 train_loss: 41.841080582660176 test_loss: 48.462093353271484\n",
      "epoch 10 R2:-0.01663109217910863\n"
     ]
    },
    {
     "name": "stderr",
     "output_type": "stream",
     "text": [
      "epoch: 11 loss: 47.40432357788086: 100%|██████████| 23/23 [00:00<00:00, 124.75it/s] \n",
      "epoch: 12 loss: 49.204593658447266:  91%|█████████▏| 21/23 [00:00<00:00, 128.36it/s]"
     ]
    },
    {
     "name": "stdout",
     "output_type": "stream",
     "text": [
      "epoch:11 train_loss: 41.20812764375106 test_loss: 49.31869888305664\n",
      "epoch 11 R2:-0.034600720015668385\n"
     ]
    },
    {
     "name": "stderr",
     "output_type": "stream",
     "text": [
      "epoch: 12 loss: 80.45128631591797: 100%|██████████| 23/23 [00:00<00:00, 116.00it/s] \n",
      "epoch: 13 loss: 8.857555389404297:  70%|██████▉   | 16/23 [00:00<00:00, 96.31it/s] "
     ]
    },
    {
     "name": "stdout",
     "output_type": "stream",
     "text": [
      "epoch:12 train_loss: 41.272099038828976 test_loss: 49.19621276855469\n",
      "epoch 12 R2:-0.032031293795363514\n"
     ]
    },
    {
     "name": "stderr",
     "output_type": "stream",
     "text": [
      "epoch: 13 loss: 50.533302307128906: 100%|██████████| 23/23 [00:00<00:00, 86.59it/s]\n",
      "epoch: 14 loss: 79.2044448852539:  70%|██████▉   | 16/23 [00:00<00:00, 86.31it/s]  "
     ]
    },
    {
     "name": "stdout",
     "output_type": "stream",
     "text": [
      "epoch:13 train_loss: 41.45919484677522 test_loss: 50.49050521850586\n",
      "epoch 13 R2:-0.059182711252970144\n"
     ]
    },
    {
     "name": "stderr",
     "output_type": "stream",
     "text": [
      "epoch: 14 loss: 87.22440338134766: 100%|██████████| 23/23 [00:00<00:00, 89.54it/s] \n",
      "epoch: 15 loss: 27.66481590270996:  83%|████████▎ | 19/23 [00:00<00:00, 106.06it/s] "
     ]
    },
    {
     "name": "stdout",
     "output_type": "stream",
     "text": [
      "epoch:14 train_loss: 41.42561108133067 test_loss: 48.952239990234375\n",
      "epoch 14 R2:-0.02691320819997922\n"
     ]
    },
    {
     "name": "stderr",
     "output_type": "stream",
     "text": [
      "epoch: 15 loss: 105.4175796508789: 100%|██████████| 23/23 [00:00<00:00, 102.28it/s] \n",
      "epoch: 16 loss: 26.130735397338867:  78%|███████▊  | 18/23 [00:00<00:00, 98.46it/s]"
     ]
    },
    {
     "name": "stdout",
     "output_type": "stream",
     "text": [
      "epoch:15 train_loss: 40.610383241072945 test_loss: 49.74162292480469\n",
      "epoch 15 R2:-0.04347282321292245\n"
     ]
    },
    {
     "name": "stderr",
     "output_type": "stream",
     "text": [
      "epoch: 16 loss: 43.32345962524414: 100%|██████████| 23/23 [00:00<00:00, 98.30it/s] \n",
      "epoch: 17 loss: 63.82301712036133: 100%|██████████| 23/23 [00:00<00:00, 118.68it/s] \n"
     ]
    },
    {
     "name": "stdout",
     "output_type": "stream",
     "text": [
      "epoch:16 train_loss: 41.69004871534265 test_loss: 50.5510139465332\n",
      "epoch 16 R2:-0.06045215505239199\n"
     ]
    },
    {
     "name": "stderr",
     "output_type": "stream",
     "text": [
      "epoch: 18 loss: 40.085548400878906:  87%|████████▋ | 20/23 [00:00<00:00, 106.99it/s]"
     ]
    },
    {
     "name": "stdout",
     "output_type": "stream",
     "text": [
      "epoch:17 train_loss: 40.30181395489237 test_loss: 49.040279388427734\n",
      "epoch 17 R2:-0.028760183871612277\n"
     ]
    },
    {
     "name": "stderr",
     "output_type": "stream",
     "text": [
      "epoch: 18 loss: 71.65254974365234: 100%|██████████| 23/23 [00:00<00:00, 103.35it/s] \n",
      "epoch: 19 loss: 10.387763023376465:  87%|████████▋ | 20/23 [00:00<00:00, 109.90it/s]"
     ]
    },
    {
     "name": "stdout",
     "output_type": "stream",
     "text": [
      "epoch:18 train_loss: 40.65287905154021 test_loss: 50.696495056152344\n",
      "epoch 18 R2:-0.06350399737219714\n"
     ]
    },
    {
     "name": "stderr",
     "output_type": "stream",
     "text": [
      "epoch: 19 loss: 24.772193908691406: 100%|██████████| 23/23 [00:00<00:00, 108.40it/s]\n",
      "epoch: 20 loss: 54.53190231323242:  78%|███████▊  | 18/23 [00:00<00:00, 89.33it/s] "
     ]
    },
    {
     "name": "stdout",
     "output_type": "stream",
     "text": [
      "epoch:19 train_loss: 39.61640366264012 test_loss: 49.59153366088867\n",
      "epoch 19 R2:-0.04032430594966541\n"
     ]
    },
    {
     "name": "stderr",
     "output_type": "stream",
     "text": [
      "epoch: 20 loss: 53.74121856689453: 100%|██████████| 23/23 [00:00<00:00, 97.75it/s]\n",
      "epoch: 21 loss: 19.70414924621582: 100%|██████████| 23/23 [00:00<00:00, 116.35it/s] "
     ]
    },
    {
     "name": "stdout",
     "output_type": "stream",
     "text": [
      "epoch:20 train_loss: 40.42038826320482 test_loss: 49.557716369628906\n",
      "epoch 20 R2:-0.0396148185294567\n"
     ]
    },
    {
     "name": "stderr",
     "output_type": "stream",
     "text": [
      "\n",
      "epoch: 22 loss: 28.428987503051758:  91%|█████████▏| 21/23 [00:00<00:00, 113.50it/s]"
     ]
    },
    {
     "name": "stdout",
     "output_type": "stream",
     "text": [
      "epoch:21 train_loss: 38.33108437579611 test_loss: 51.181976318359375\n",
      "epoch 21 R2:-0.07368832431713357\n"
     ]
    },
    {
     "name": "stderr",
     "output_type": "stream",
     "text": [
      "epoch: 22 loss: 17.43593978881836: 100%|██████████| 23/23 [00:00<00:00, 113.28it/s] \n",
      "epoch: 23 loss: 48.323848724365234: 100%|██████████| 23/23 [00:00<00:00, 118.14it/s]"
     ]
    },
    {
     "name": "stdout",
     "output_type": "stream",
     "text": [
      "epoch:22 train_loss: 39.619425649228305 test_loss: 49.345375061035156\n",
      "epoch 22 R2:-0.03516037472945088\n"
     ]
    },
    {
     "name": "stderr",
     "output_type": "stream",
     "text": [
      "\n",
      "epoch: 24 loss: 82.8739013671875: 100%|██████████| 23/23 [00:00<00:00, 127.47it/s]  \n",
      "epoch: 25 loss: 23.066160202026367:   0%|          | 0/23 [00:00<?, ?it/s]"
     ]
    },
    {
     "name": "stdout",
     "output_type": "stream",
     "text": [
      "epoch:23 train_loss: 41.75997360892918 test_loss: 49.2335090637207\n",
      "epoch 23 R2:-0.03281362448402447\n",
      "epoch:24 train_loss: 40.21381369881008 test_loss: 49.971282958984375\n",
      "epoch 24 R2:-0.04829055313409292\n"
     ]
    },
    {
     "name": "stderr",
     "output_type": "stream",
     "text": [
      "epoch: 25 loss: 14.822495460510254: 100%|██████████| 23/23 [00:00<00:00, 123.61it/s]\n",
      "epoch: 26 loss: 67.75871276855469: 100%|██████████| 23/23 [00:00<00:00, 131.68it/s] \n",
      "epoch: 27 loss: 51.77092361450195:   0%|          | 0/23 [00:00<?, ?it/s]"
     ]
    },
    {
     "name": "stdout",
     "output_type": "stream",
     "text": [
      "epoch:25 train_loss: 40.41107969698699 test_loss: 49.39331817626953\n",
      "epoch 25 R2:-0.03616611690422378\n",
      "epoch:26 train_loss: 40.28149372598399 test_loss: 50.008758544921875\n",
      "epoch 26 R2:-0.049076763532047485\n"
     ]
    },
    {
     "name": "stderr",
     "output_type": "stream",
     "text": [
      "epoch: 27 loss: 20.667978286743164: 100%|██████████| 23/23 [00:00<00:00, 111.68it/s]\n",
      "epoch: 28 loss: 37.060489654541016: 100%|██████████| 23/23 [00:00<00:00, 127.70it/s]\n",
      "epoch: 29 loss: 30.069963455200195:   0%|          | 0/23 [00:00<?, ?it/s]"
     ]
    },
    {
     "name": "stdout",
     "output_type": "stream",
     "text": [
      "epoch:27 train_loss: 39.11371092174364 test_loss: 49.57713317871094\n",
      "epoch 27 R2:-0.04002211476468576\n",
      "epoch:28 train_loss: 40.102998526200004 test_loss: 50.48429489135742\n",
      "epoch 28 R2:-0.059052521811026715\n"
     ]
    },
    {
     "name": "stderr",
     "output_type": "stream",
     "text": [
      "epoch: 29 loss: 69.95301055908203: 100%|██████████| 23/23 [00:00<00:00, 129.59it/s] \n",
      "epoch: 30 loss: 14.707712173461914: 100%|██████████| 23/23 [00:00<00:00, 131.97it/s]\n",
      "epoch: 31 loss: 58.60007095336914:   4%|▍         | 1/23 [00:00<00:00, 68.27it/s]"
     ]
    },
    {
     "name": "stdout",
     "output_type": "stream",
     "text": [
      "epoch:29 train_loss: 41.19264664857284 test_loss: 49.96098709106445\n",
      "epoch 29 R2:-0.048074696685912466\n",
      "epoch:30 train_loss: 41.01120368294094 test_loss: 50.231903076171875\n",
      "epoch 30 R2:-0.05375786119290016\n"
     ]
    },
    {
     "name": "stderr",
     "output_type": "stream",
     "text": [
      "epoch: 31 loss: 26.06601905822754: 100%|██████████| 23/23 [00:00<00:00, 128.69it/s] \n",
      "epoch: 32 loss: 24.773080825805664: 100%|██████████| 23/23 [00:00<00:00, 127.51it/s]\n",
      "  0%|          | 0/23 [00:00<?, ?it/s]"
     ]
    },
    {
     "name": "stdout",
     "output_type": "stream",
     "text": [
      "epoch:31 train_loss: 40.56193318574325 test_loss: 51.220741271972656\n",
      "epoch 31 R2:-0.07450156673001751\n",
      "epoch:32 train_loss: 41.323359655297324 test_loss: 49.412437438964844\n",
      "epoch 32 R2:-0.03656720079174014\n"
     ]
    },
    {
     "name": "stderr",
     "output_type": "stream",
     "text": [
      "epoch: 33 loss: 72.91697692871094: 100%|██████████| 23/23 [00:00<00:00, 92.65it/s] \n",
      "epoch: 34 loss: 13.507452011108398: 100%|██████████| 23/23 [00:00<00:00, 123.29it/s]\n",
      "  0%|          | 0/23 [00:00<?, ?it/s]"
     ]
    },
    {
     "name": "stdout",
     "output_type": "stream",
     "text": [
      "epoch:33 train_loss: 40.911223639612615 test_loss: 49.47282028198242\n",
      "epoch 33 R2:-0.03783391093983535\n",
      "epoch:34 train_loss: 41.11044651529063 test_loss: 51.817359924316406\n",
      "epoch 34 R2:-0.08701742074062002\n"
     ]
    },
    {
     "name": "stderr",
     "output_type": "stream",
     "text": [
      "epoch: 35 loss: 20.72917366027832: 100%|██████████| 23/23 [00:00<00:00, 124.66it/s] \n",
      "epoch: 36 loss: 30.52884292602539: 100%|██████████| 23/23 [00:00<00:00, 129.86it/s] \n",
      "epoch: 37 loss: 53.67467498779297:   0%|          | 0/23 [00:00<?, ?it/s]"
     ]
    },
    {
     "name": "stdout",
     "output_type": "stream",
     "text": [
      "epoch:35 train_loss: 38.99479708464249 test_loss: 49.422298431396484\n",
      "epoch 35 R2:-0.03677406302726505\n",
      "epoch:36 train_loss: 40.7182095154472 test_loss: 49.823158264160156\n",
      "epoch 36 R2:-0.04518329352873596\n"
     ]
    },
    {
     "name": "stderr",
     "output_type": "stream",
     "text": [
      "epoch: 37 loss: 44.743614196777344: 100%|██████████| 23/23 [00:00<00:00, 120.41it/s]\n",
      "epoch: 38 loss: 41.01039123535156:  87%|████████▋ | 20/23 [00:00<00:00, 121.01it/s] "
     ]
    },
    {
     "name": "stdout",
     "output_type": "stream",
     "text": [
      "epoch:37 train_loss: 40.42260916336723 test_loss: 50.458778381347656\n",
      "epoch 37 R2:-0.05851719784603282\n"
     ]
    },
    {
     "name": "stderr",
     "output_type": "stream",
     "text": [
      "epoch: 38 loss: 25.99790382385254: 100%|██████████| 23/23 [00:00<00:00, 112.48it/s]\n",
      "epoch: 39 loss: 62.064517974853516:  87%|████████▋ | 20/23 [00:00<00:00, 89.54it/s]"
     ]
    },
    {
     "name": "stdout",
     "output_type": "stream",
     "text": [
      "epoch:38 train_loss: 39.48991211600926 test_loss: 49.939483642578125\n",
      "epoch 38 R2:-0.047623609811557444\n"
     ]
    },
    {
     "name": "stderr",
     "output_type": "stream",
     "text": [
      "epoch: 39 loss: 73.0392074584961: 100%|██████████| 23/23 [00:00<00:00, 106.22it/s] "
     ]
    },
    {
     "name": "stdout",
     "output_type": "stream",
     "text": [
      "epoch:39 train_loss: 39.08320524381555 test_loss: 49.54296875\n",
      "epoch 39 R2:-0.039305486596370454\n"
     ]
    },
    {
     "name": "stderr",
     "output_type": "stream",
     "text": [
      "\n"
     ]
    }
   ],
   "source": [
    "network = GCNet(neighbors=num_neighbors, feature_graph=feature_graph, fc_unit=fc_unit, channels=channels)\n",
    "optimizer = Adam()\n",
    "\n",
    "learning_curve = []\n",
    "test_curve = []\n",
    "\n",
    "for i in range(epochs):\n",
    "    N = X_train.shape[0]\n",
    "    perm = np.random.permutation(N)\n",
    "    loss = 0\n",
    "    bar = tqdm(range(N//batch_size))\n",
    "    for j in bar:\n",
    "        index = perm[j*batch_size:(j+1)*batch_size]\n",
    "        train_batch_x = X_train[index].reshape(-1, 1, X_train.shape[1], 1)\n",
    "        train_batch_y = y_train[index]\n",
    "\n",
    "        # Loss function\n",
    "        network.set_models(inference=False)\n",
    "        with network.train():\n",
    "            l = rm.mse(network(train_batch_x), train_batch_y)\n",
    "\n",
    "        # Back propagation\n",
    "        grad = l.grad()\n",
    "\n",
    "        # Update\n",
    "        grad.update(optimizer)\n",
    "        loss += l.as_ndarray()\n",
    "        bar.set_description(\"epoch: {} loss: {}\".format(i, l.as_ndarray()))\n",
    "        bar.update(1)\n",
    "        \n",
    "    train_loss = loss / (N//batch_size)\n",
    "    learning_curve.append(train_loss)\n",
    "\n",
    "    # Validation\n",
    "    network.set_models(inference=True)\n",
    "    N = X_test.shape[0]\n",
    "    \n",
    "    pred = network(X_test.reshape(-1, 1, X_test.shape[1], 1))\n",
    "    test_loss = rm.mse(pred, y_test)\n",
    "    test_curve.append(test_loss)\n",
    "    print(\"epoch:{} train_loss: {} test_loss: {}\".format(i, train_loss, test_loss))\n",
    "\n",
    "    print(\"epoch {} R2:{}\".format(i, r2_score(y_test.reshape(-1,), pred.reshape(-1,))))"
   ]
  },
  {
   "cell_type": "code",
   "execution_count": 6,
   "metadata": {},
   "outputs": [
    {
     "data": {
      "image/png": "[encoded data removed]",
      "text/plain": [
       "<matplotlib.figure.Figure at 0x10a336748>"
      ]
     },
     "metadata": {},
     "output_type": "display_data"
    }
   ],
   "source": [
    "# Learning curve.\n",
    "plt.plot(learning_curve, linewidth=3, label=\"train\")\n",
    "plt.plot(test_curve, linewidth=3, label=\"test\")\n",
    "plt.title(\"Learning curve\")\n",
    "plt.ylabel(\"error\")\n",
    "plt.xlabel(\"epoch\")\n",
    "plt.legend()\n",
    "plt.grid()\n",
    "plt.show()"
   ]
  }
 ],
 "metadata": {
  "kernelspec": {
   "display_name": "Python 3",
   "language": "python",
   "name": "python3"
  },
  "language_info": {
   "codemirror_mode": {
    "name": "ipython",
    "version": 3
   },
   "file_extension": ".py",
   "mimetype": "text/x-python",
   "name": "python",
   "nbconvert_exporter": "python",
   "pygments_lexer": "ipython3",
   "version": "3.6.1"
  }
 },
 "nbformat": 4,
 "nbformat_minor": 2
}
